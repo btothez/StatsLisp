{
 "cells": [
  {
   "cell_type": "code",
   "execution_count": 10,
   "metadata": {},
   "outputs": [],
   "source": [
    "import pandas as pd\n",
    "import numpy as np\n",
    "from lis import *"
   ]
  },
  {
   "cell_type": "code",
   "execution_count": 11,
   "metadata": {},
   "outputs": [
    {
     "name": "stdout",
     "output_type": "stream",
     "text": [
      "promoters.mean() :  0.17401129943502824\n",
      "\n",
      "passives.mean() :  0.18983050847457628\n",
      "\n",
      "detractors.mean() :  0.6361581920903955\n"
     ]
    }
   ],
   "source": [
    "qnps_answers = np.random.choice(\n",
    "    a=[i for i in range(11)],\n",
    "    p=[(1/11) for i in range(11)],\n",
    "    size=885)\n",
    "\n",
    "nps = pd.Series(qnps_answers)\n",
    "promoters = nps.apply(lambda x: 1 if x in [9, 10] else 0)\n",
    "passives = nps.apply(lambda x: 1 if x in [7, 8] else 0)\n",
    "detractors = nps.apply(lambda x: 1 if x < 7 else 0)\n",
    "print('promoters.mean() : ', promoters.mean())\n",
    "\n",
    "print()\n",
    "print('passives.mean() : ', passives.mean())\n",
    "print()\n",
    "print('detractors.mean() : ', detractors.mean())\n",
    "\n"
   ]
  },
  {
   "cell_type": "code",
   "execution_count": 12,
   "metadata": {},
   "outputs": [],
   "source": [
    "prom_variable = variable_factory(**{'series': promoters})\n",
    "detr_variable = variable_factory(**{'series': detractors})\n",
    "env = base_environment\n",
    "env['promoters'] = prom_variable\n",
    "env['detractors'] = detr_variable"
   ]
  },
  {
   "cell_type": "code",
   "execution_count": 14,
   "metadata": {},
   "outputs": [
    {
     "name": "stdout",
     "output_type": "stream",
     "text": [
      "λ [promoters, -, detractors]\n",
      "LIST LENGTH: 3\n",
      "λ promoters\n",
      "  [PROPORTION: 154 / 885]\n",
      "λ detractors\n",
      "  [PROPORTION: 563 / 885]\n",
      "λ -\n",
      "📊 Stat Variable Operator -\n",
      "   👷Running (-) on [PROPORTION: 154 / 885] and [PROPORTION: 563 / 885]\n",
      "         Now Expression is [[DISTRIBUTION: mu=-0.46214689265536724, sigma^2=0.5970141668287907]]\n",
      "λ [DISTRIBUTION: mu=-0.46214689265536724, sigma^2=0.5970141668287907]\n"
     ]
    },
    {
     "data": {
      "text/plain": [
       "[DISTRIBUTION: mu=-0.46214689265536724, sigma^2=0.5970141668287907]"
      ]
     },
     "execution_count": 14,
     "metadata": {},
     "output_type": "execute_result"
    }
   ],
   "source": [
    "run('''\n",
    "(promoters - detractors)\n",
    "''')"
   ]
  },
  {
   "cell_type": "markdown",
   "metadata": {},
   "source": [
    "# 🔥🔥🔥🔥🔥🔥🔥"
   ]
  },
  {
   "cell_type": "code",
   "execution_count": 15,
   "metadata": {},
   "outputs": [
    {
     "name": "stdout",
     "output_type": "stream",
     "text": [
      "λ [[[promoters, ==, detractors], *, 100], +, [17, *, [promoters, <, detractors]]]\n",
      "LIST LENGTH: 3\n",
      "λ [[promoters, ==, detractors], *, 100]\n",
      "LIST LENGTH: 3\n",
      "λ [promoters, ==, detractors]\n",
      "LIST LENGTH: 3\n",
      "λ promoters\n",
      "  [PROPORTION: 154 / 885]\n",
      "λ detractors\n",
      "  [PROPORTION: 563 / 885]\n",
      "λ ==\n",
      "📊 Stat Variable Operator ==\n",
      "   👷Running (==) on [PROPORTION: 154 / 885] and [PROPORTION: 563 / 885]\n",
      "         Now Expression is [0]\n",
      "λ 0\n",
      "λ *\n",
      "  <built-in function mul>\n",
      "   👷Running (*) on 0 and 100\n",
      "         Now Expression is [0]\n",
      "λ 0\n",
      "λ [17, *, [promoters, <, detractors]]\n",
      "LIST LENGTH: 3\n",
      "λ [promoters, <, detractors]\n",
      "LIST LENGTH: 3\n",
      "λ promoters\n",
      "  [PROPORTION: 154 / 885]\n",
      "λ detractors\n",
      "  [PROPORTION: 563 / 885]\n",
      "λ <\n",
      "📊 Stat Variable Operator <\n",
      "   👷Running (<) on [PROPORTION: 154 / 885] and [PROPORTION: 563 / 885]\n",
      "         Now Expression is [[PROBABILITY: 0.725119788604101]]\n",
      "λ [PROBABILITY: 0.725119788604101]\n",
      "λ *\n",
      "📊 Stat Variable Operator *\n",
      "   👷Running (*) on 17 and [PROBABILITY: 0.725119788604101]\n",
      "         Now Expression is [12.327036406269716]\n",
      "λ 12.327036406269716\n",
      "λ +\n",
      "  <built-in function add>\n",
      "   👷Running (+) on 0 and 12.327036406269716\n",
      "         Now Expression is [12.327036406269716]\n",
      "λ 12.327036406269716\n"
     ]
    },
    {
     "data": {
      "text/plain": [
       "12.327036406269716"
      ]
     },
     "execution_count": 15,
     "metadata": {},
     "output_type": "execute_result"
    }
   ],
   "source": [
    "run('''\n",
    "(\n",
    "    (\n",
    "        (promoters == detractors) * 100\n",
    "    ) + (\n",
    "        17 * (promoters < detractors))\n",
    "    )\n",
    "''')"
   ]
  },
  {
   "cell_type": "code",
   "execution_count": 16,
   "metadata": {},
   "outputs": [
    {
     "name": "stdout",
     "output_type": "stream",
     "text": [
      "λ [promoters, >, detractors]\n",
      "LIST LENGTH: 3\n",
      "λ promoters\n",
      "  [PROPORTION: 154 / 885]\n",
      "λ detractors\n",
      "  [PROPORTION: 563 / 885]\n",
      "λ >\n",
      "📊 Stat Variable Operator >\n",
      "   👷Running (>) on [PROPORTION: 154 / 885] and [PROPORTION: 563 / 885]\n",
      "         Now Expression is [[PROBABILITY: 0.274880211395899]]\n",
      "λ [PROBABILITY: 0.274880211395899]\n"
     ]
    },
    {
     "data": {
      "text/plain": [
       "[PROBABILITY: 0.274880211395899]"
      ]
     },
     "execution_count": 16,
     "metadata": {},
     "output_type": "execute_result"
    }
   ],
   "source": [
    "run('''\n",
    "(promoters > detractors)\n",
    "''')"
   ]
  },
  {
   "cell_type": "code",
   "execution_count": 7,
   "metadata": {},
   "outputs": [
    {
     "name": "stdout",
     "output_type": "stream",
     "text": [
      "λ [promoters, *, 100]\n",
      "LIST LENGTH: 3\n",
      "λ promoters\n",
      "  [PROPORTION: 154 / 885]\n",
      "λ *\n",
      "📊 Stat Variable Operator *\n",
      "   👷Running (*) on [PROPORTION: 154 / 885] and 100\n",
      "         Now Expression is [[DISTRIBUTION: mu=17.401129943502823, sigma^2=1438.9395914819645]]\n",
      "λ [DISTRIBUTION: mu=17.401129943502823, sigma^2=1438.9395914819645]\n"
     ]
    },
    {
     "data": {
      "text/plain": [
       "[DISTRIBUTION: mu=17.401129943502823, sigma^2=1438.9395914819645]"
      ]
     },
     "execution_count": 7,
     "metadata": {},
     "output_type": "execute_result"
    }
   ],
   "source": [
    "run('''|\n",
    "(promoters * 100)\n",
    "''')"
   ]
  },
  {
   "cell_type": "code",
   "execution_count": 17,
   "metadata": {
    "scrolled": false
   },
   "outputs": [
    {
     "name": "stdout",
     "output_type": "stream",
     "text": [
      "λ [begin, [define, prom_percent, [promoters, *, 100]], [define, detr_percent, [detractors, *, 100]], [prom_percent, -, detr_percent]]\n",
      "LIST LENGTH: 4\n",
      "λ [define, prom_percent, [promoters, *, 100]]\n",
      "LIST LENGTH: 3\n",
      "λ [promoters, *, 100]\n",
      "LIST LENGTH: 3\n",
      "λ promoters\n",
      "  [PROPORTION: 154 / 885]\n",
      "λ *\n",
      "📊 Stat Variable Operator *\n",
      "   👷Running (*) on [PROPORTION: 154 / 885] and 100\n",
      "         Now Expression is [[DISTRIBUTION: mu=17.401129943502823, sigma^2=1438.9395914819645]]\n",
      "λ [DISTRIBUTION: mu=17.401129943502823, sigma^2=1438.9395914819645]\n",
      "λ [define, detr_percent, [detractors, *, 100]]\n",
      "LIST LENGTH: 3\n",
      "λ [detractors, *, 100]\n",
      "LIST LENGTH: 3\n",
      "λ detractors\n",
      "  [PROPORTION: 563 / 885]\n",
      "λ *\n",
      "📊 Stat Variable Operator *\n",
      "   👷Running (*) on [PROPORTION: 563 / 885] and 100\n",
      "         Now Expression is [[DISTRIBUTION: mu=63.61581920903955, sigma^2=2317.227803768182]]\n",
      "λ [DISTRIBUTION: mu=63.61581920903955, sigma^2=2317.227803768182]\n",
      "λ [prom_percent, -, detr_percent]\n",
      "LIST LENGTH: 3\n",
      "λ prom_percent\n",
      "  [DISTRIBUTION: mu=17.401129943502823, sigma^2=1438.9395914819645]\n",
      "λ detr_percent\n",
      "  [DISTRIBUTION: mu=63.61581920903955, sigma^2=2317.227803768182]\n",
      "λ -\n",
      "📊 Stat Variable Operator -\n",
      "   👷Running (-) on [DISTRIBUTION: mu=17.401129943502823, sigma^2=1438.9395914819645] and [DISTRIBUTION: mu=63.61581920903955, sigma^2=2317.227803768182]\n",
      "         Now Expression is [[DISTRIBUTION: mu=-46.21468926553673, sigma^2=5970.141668287908]]\n",
      "λ [DISTRIBUTION: mu=-46.21468926553673, sigma^2=5970.141668287908]\n"
     ]
    },
    {
     "data": {
      "text/plain": [
       "[DISTRIBUTION: mu=-46.21468926553673, sigma^2=5970.141668287908]"
      ]
     },
     "execution_count": 17,
     "metadata": {},
     "output_type": "execute_result"
    }
   ],
   "source": [
    "run('''\n",
    "(begin \n",
    "    (define prom_percent (promoters * 100))\n",
    "    (define detr_percent (detractors * 100))\n",
    "    (prom_percent - detr_percent)\n",
    ")\n",
    "''')"
   ]
  },
  {
   "cell_type": "code",
   "execution_count": null,
   "metadata": {},
   "outputs": [],
   "source": []
  }
 ],
 "metadata": {
  "kernelspec": {
   "display_name": "Python 3",
   "language": "python",
   "name": "python3"
  },
  "language_info": {
   "codemirror_mode": {
    "name": "ipython",
    "version": 3
   },
   "file_extension": ".py",
   "mimetype": "text/x-python",
   "name": "python",
   "nbconvert_exporter": "python",
   "pygments_lexer": "ipython3",
   "version": "3.4.0"
  }
 },
 "nbformat": 4,
 "nbformat_minor": 2
}
