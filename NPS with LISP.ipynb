{
 "cells": [
  {
   "cell_type": "code",
   "execution_count": 1,
   "metadata": {},
   "outputs": [],
   "source": [
    "import pandas as pd\n",
    "import numpy as np\n",
    "from lis import *"
   ]
  },
  {
   "cell_type": "code",
   "execution_count": 2,
   "metadata": {},
   "outputs": [
    {
     "name": "stdout",
     "output_type": "stream",
     "text": [
      "promoters.mean() :  0.18418079096045198\n",
      "\n",
      "passives.mean() :  0.18305084745762712\n",
      "\n",
      "detractors.mean() :  0.632768361581921\n"
     ]
    }
   ],
   "source": [
    "qnps_answers = np.random.choice(\n",
    "    a=[i for i in range(11)],\n",
    "    p=[(1/11) for i in range(11)],\n",
    "    size=885)\n",
    "\n",
    "nps = pd.Series(qnps_answers)\n",
    "promoters = nps.apply(lambda x: 1 if x in [9, 10] else 0)\n",
    "passives = nps.apply(lambda x: 1 if x in [7, 8] else 0)\n",
    "detractors = nps.apply(lambda x: 1 if x < 7 else 0)\n",
    "print('promoters.mean() : ', promoters.mean())\n",
    "print()\n",
    "print('passives.mean() : ', passives.mean())\n",
    "print()\n",
    "print('detractors.mean() : ', detractors.mean())\n",
    "\n"
   ]
  },
  {
   "cell_type": "code",
   "execution_count": 3,
   "metadata": {},
   "outputs": [],
   "source": [
    "prom_variable = variable_factory(**{'series': promoters})\n",
    "detr_variable = variable_factory(**{'series': detractors})\n",
    "env = base_environment\n",
    "env['promoters'] = prom_variable\n",
    "env['detractors'] = detr_variable"
   ]
  },
  {
   "cell_type": "code",
   "execution_count": 4,
   "metadata": {},
   "outputs": [
    {
     "name": "stdout",
     "output_type": "stream",
     "text": [
      "λ [promoters, -, detractors]\n",
      "LIST LENGTH: 3\n",
      "λ promoters\n",
      "  [PROPORTION: 163 / 885]\n",
      "λ detractors\n",
      "  [PROPORTION: 560 / 885]\n",
      "λ -\n",
      "📊 Stat Variable Operator -\n",
      "   👷Running (-) on [PROPORTION: 163 / 885] and [PROPORTION: 560 / 885]\n",
      "         Now Expression is [[DISTRIBUTION: mean=-0.448587570621469, var=0.6161511842857637]]\n",
      "λ [DISTRIBUTION: mean=-0.448587570621469, var=0.6161511842857637]\n"
     ]
    },
    {
     "data": {
      "text/plain": [
       "[DISTRIBUTION: mean=-0.448587570621469, var=0.6161511842857637]"
      ]
     },
     "execution_count": 4,
     "metadata": {},
     "output_type": "execute_result"
    }
   ],
   "source": [
    "run('''\n",
    "(promoters - detractors)\n",
    "''')"
   ]
  },
  {
   "cell_type": "markdown",
   "metadata": {},
   "source": [
    "# 🔥🔥🔥🔥🔥🔥🔥"
   ]
  },
  {
   "cell_type": "code",
   "execution_count": 5,
   "metadata": {},
   "outputs": [
    {
     "name": "stdout",
     "output_type": "stream",
     "text": [
      "λ [[[promoters, ==, detractors], *, 100], +, [17, *, [promoters, <, detractors]]]\n",
      "LIST LENGTH: 3\n",
      "λ [[promoters, ==, detractors], *, 100]\n",
      "LIST LENGTH: 3\n",
      "λ [promoters, ==, detractors]\n",
      "LIST LENGTH: 3\n",
      "λ promoters\n",
      "  [PROPORTION: 163 / 885]\n",
      "λ detractors\n",
      "  [PROPORTION: 560 / 885]\n",
      "λ ==\n",
      "📊 Stat Variable Operator ==\n",
      "   👷Running (==) on [PROPORTION: 163 / 885] and [PROPORTION: 560 / 885]\n",
      "         Now Expression is [0]\n",
      "λ 0\n",
      "λ *\n",
      "  <built-in function mul>\n",
      "   👷Running (*) on 0 and 100\n",
      "         Now Expression is [0]\n",
      "λ 0\n",
      "λ [17, *, [promoters, <, detractors]]\n",
      "LIST LENGTH: 3\n",
      "λ [promoters, <, detractors]\n",
      "LIST LENGTH: 3\n",
      "λ promoters\n",
      "  [PROPORTION: 163 / 885]\n",
      "λ detractors\n",
      "  [PROPORTION: 560 / 885]\n",
      "λ <\n",
      "📊 Stat Variable Operator <\n",
      "   👷Running (<) on [PROPORTION: 163 / 885] and [PROPORTION: 560 / 885]\n",
      "         Now Expression is [[PROBABILITY: 0.7161639828586421]]\n",
      "λ [PROBABILITY: 0.7161639828586421]\n",
      "λ *\n",
      "📊 Stat Variable Operator *\n",
      "   👷Running (*) on 17 and [PROBABILITY: 0.7161639828586421]\n",
      "         Now Expression is [12.174787708596917]\n",
      "λ 12.174787708596917\n",
      "λ +\n",
      "  <built-in function add>\n",
      "   👷Running (+) on 0 and 12.174787708596917\n",
      "         Now Expression is [12.174787708596917]\n",
      "λ 12.174787708596917\n"
     ]
    },
    {
     "data": {
      "text/plain": [
       "12.174787708596917"
      ]
     },
     "execution_count": 5,
     "metadata": {},
     "output_type": "execute_result"
    }
   ],
   "source": [
    "run('''\n",
    "(\n",
    "    (\n",
    "        (promoters == detractors) * 100\n",
    "    ) + (\n",
    "        17 * (promoters < detractors))\n",
    "    )\n",
    "''')"
   ]
  },
  {
   "cell_type": "code",
   "execution_count": 6,
   "metadata": {},
   "outputs": [
    {
     "name": "stdout",
     "output_type": "stream",
     "text": [
      "λ [promoters, >, detractors]\n",
      "LIST LENGTH: 3\n",
      "λ promoters\n",
      "  [PROPORTION: 163 / 885]\n",
      "λ detractors\n",
      "  [PROPORTION: 560 / 885]\n",
      "λ >\n",
      "📊 Stat Variable Operator >\n",
      "   👷Running (>) on [PROPORTION: 163 / 885] and [PROPORTION: 560 / 885]\n",
      "         Now Expression is [[PROBABILITY: 0.28383601714135787]]\n",
      "λ [PROBABILITY: 0.28383601714135787]\n"
     ]
    },
    {
     "data": {
      "text/plain": [
       "[PROBABILITY: 0.28383601714135787]"
      ]
     },
     "execution_count": 6,
     "metadata": {},
     "output_type": "execute_result"
    }
   ],
   "source": [
    "run('''\n",
    "(promoters > detractors)\n",
    "''')"
   ]
  },
  {
   "cell_type": "code",
   "execution_count": 7,
   "metadata": {},
   "outputs": [
    {
     "name": "stdout",
     "output_type": "stream",
     "text": [
      "λ [promoters, *, 100]\n",
      "LIST LENGTH: 3\n",
      "λ promoters\n",
      "  [PROPORTION: 163 / 885]\n",
      "λ *\n",
      "📊 Stat Variable Operator *\n",
      "   👷Running (*) on [PROPORTION: 163 / 885] and 100\n",
      "         Now Expression is [[DISTRIBUTION: mean=18.418079096045197, var=1504.2820257177186]]\n",
      "λ [DISTRIBUTION: mean=18.418079096045197, var=1504.2820257177186]\n"
     ]
    },
    {
     "data": {
      "text/plain": [
       "[DISTRIBUTION: mean=18.418079096045197, var=1504.2820257177186]"
      ]
     },
     "execution_count": 7,
     "metadata": {},
     "output_type": "execute_result"
    }
   ],
   "source": [
    "run('''\n",
    "(promoters * 100)\n",
    "''')"
   ]
  },
  {
   "cell_type": "code",
   "execution_count": 8,
   "metadata": {
    "scrolled": false
   },
   "outputs": [
    {
     "name": "stdout",
     "output_type": "stream",
     "text": [
      "λ [begin, [define, prom_percent, [promoters, *, 100]], [define, detr_percent, [detractors, *, 100]], [prom_percent, -, detr_percent]]\n",
      "LIST LENGTH: 4\n",
      "λ [define, prom_percent, [promoters, *, 100]]\n",
      "LIST LENGTH: 3\n",
      "λ [promoters, *, 100]\n",
      "LIST LENGTH: 3\n",
      "λ promoters\n",
      "  [PROPORTION: 163 / 885]\n",
      "λ *\n",
      "📊 Stat Variable Operator *\n",
      "   👷Running (*) on [PROPORTION: 163 / 885] and 100\n",
      "         Now Expression is [[DISTRIBUTION: mean=18.418079096045197, var=1504.2820257177186]]\n",
      "λ [DISTRIBUTION: mean=18.418079096045197, var=1504.2820257177186]\n",
      "λ [define, detr_percent, [detractors, *, 100]]\n",
      "LIST LENGTH: 3\n",
      "λ [detractors, *, 100]\n",
      "LIST LENGTH: 3\n",
      "λ detractors\n",
      "  [PROPORTION: 560 / 885]\n",
      "λ *\n",
      "📊 Stat Variable Operator *\n",
      "   👷Running (*) on [PROPORTION: 560 / 885] and 100\n",
      "         Now Expression is [[DISTRIBUTION: mean=63.2768361581921, var=2326.354270521768]]\n",
      "λ [DISTRIBUTION: mean=63.2768361581921, var=2326.354270521768]\n",
      "λ [prom_percent, -, detr_percent]\n",
      "LIST LENGTH: 3\n",
      "λ prom_percent\n",
      "  [DISTRIBUTION: mean=18.418079096045197, var=1504.2820257177186]\n",
      "λ detr_percent\n",
      "  [DISTRIBUTION: mean=63.2768361581921, var=2326.354270521768]\n",
      "λ -\n",
      "📊 Stat Variable Operator -\n",
      "   👷Running (-) on [DISTRIBUTION: mean=18.418079096045197, var=1504.2820257177186] and [DISTRIBUTION: mean=63.2768361581921, var=2326.354270521768]\n",
      "         Now Expression is [[DISTRIBUTION: mean=-44.8587570621469, var=6161.511842857636]]\n",
      "λ [DISTRIBUTION: mean=-44.8587570621469, var=6161.511842857636]\n"
     ]
    },
    {
     "data": {
      "text/plain": [
       "[DISTRIBUTION: mean=-44.8587570621469, var=6161.511842857636]"
      ]
     },
     "execution_count": 8,
     "metadata": {},
     "output_type": "execute_result"
    }
   ],
   "source": [
    "run('''\n",
    "(begin \n",
    "    (define prom_percent (promoters * 100))\n",
    "    (define detr_percent (detractors * 100))\n",
    "    (prom_percent - detr_percent)\n",
    ")\n",
    "''')"
   ]
  },
  {
   "cell_type": "code",
   "execution_count": null,
   "metadata": {},
   "outputs": [],
   "source": []
  },
  {
   "cell_type": "code",
   "execution_count": null,
   "metadata": {},
   "outputs": [],
   "source": []
  }
 ],
 "metadata": {
  "kernelspec": {
   "display_name": "Python 3",
   "language": "python",
   "name": "python3"
  },
  "language_info": {
   "codemirror_mode": {
    "name": "ipython",
    "version": 3
   },
   "file_extension": ".py",
   "mimetype": "text/x-python",
   "name": "python",
   "nbconvert_exporter": "python",
   "pygments_lexer": "ipython3",
   "version": "3.4.0"
  }
 },
 "nbformat": 4,
 "nbformat_minor": 2
}
