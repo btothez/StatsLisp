{
 "cells": [
  {
   "cell_type": "code",
   "execution_count": 1,
   "metadata": {},
   "outputs": [],
   "source": [
    "import pandas as pd\n",
    "import numpy as np\n",
    "from lis import *\n",
    "\n",
    "def normalize(lst):\n",
    "    arr = np.array(lst)\n",
    "    return [n / arr.sum() for n in lst]\n",
    "    \n",
    "\n",
    "probs_a = [1, 1, 1, 1, 1, 1, 1, 1, 1, 1, 1]\n",
    "size_a = 885\n",
    "qnps_answers_a = np.random.choice(\n",
    "    a=[i for i in range(11)],\n",
    "    p=normalize(probs_a),\n",
    "    size=size_a)\n",
    "\n",
    "probs_b = [1, 1, 1, 1, 1, 1, 1, 1.5, 1, 1.1, 1.2]\n",
    "size_b = 229\n",
    "\n",
    "    \n",
    "qnps_answers_b = np.random.choice(\n",
    "    a=[i for i in range(11)],\n",
    "    p=normalize(probs_b),\n",
    "    size=size_b)\n"
   ]
  },
  {
   "cell_type": "code",
   "execution_count": 2,
   "metadata": {},
   "outputs": [
    {
     "name": "stdout",
     "output_type": "stream",
     "text": [
      "a stats:  0.1807909604519774 0.1482731293299588\n",
      "b stats:  0.2096069868995633 0.1663985290737761\n"
     ]
    }
   ],
   "source": [
    "nps_a = pd.Series(qnps_answers_a)\n",
    "nps_b = pd.Series(qnps_answers_b)\n",
    "\n",
    "get_promoters = lambda ser: ser.apply(lambda x: 1 if x in [9, 10] else 0)\n",
    "get_passives = lambda ser: ser.apply(lambda x: 1 if x in [7, 8] else 0)\n",
    "get_detractors = lambda ser: ser.apply(lambda x: 1 if x < 7 else 0)\n",
    "\n",
    "promoters_a = get_promoters(nps_a)\n",
    "detractors_a = get_detractors(nps_a)\n",
    "\n",
    "promoters_b = get_promoters(nps_b)\n",
    "detractors_b = get_detractors(nps_b)\n",
    "\n",
    "print('a stats: ', promoters_a.mean(), promoters_a.var())\n",
    "print('b stats: ', promoters_b.mean(), promoters_b.var())"
   ]
  },
  {
   "cell_type": "code",
   "execution_count": 3,
   "metadata": {},
   "outputs": [],
   "source": [
    "env = base_environment\n",
    "\n",
    "prom_variable_a = variable_factory(**{'series': promoters_a})\n",
    "detr_variable_a = variable_factory(**{'series': detractors_a})\n",
    "\n",
    "env['promoters_a'] = prom_variable_a\n",
    "env['detractors_a'] = detr_variable_a\n",
    "\n",
    "prom_variable_b = variable_factory(**{'series': promoters_b})\n",
    "detr_variable_b = variable_factory(**{'series': detractors_b})\n",
    "\n",
    "env['promoters_b'] = prom_variable_b\n",
    "env['detractors_b'] = detr_variable_b"
   ]
  },
  {
   "cell_type": "code",
   "execution_count": 4,
   "metadata": {},
   "outputs": [
    {
     "name": "stdout",
     "output_type": "stream",
     "text": [
      "λ [promoters_a, -, detractors_a]\n",
      "LIST LENGTH: 3\n",
      "λ promoters_a\n",
      "  [PROPORTION: 160 / 885]\n",
      "λ detractors_a\n",
      "  [PROPORTION: 572 / 885]\n",
      "λ -\n",
      "📊 Stat Variable Operator -\n",
      "   👷Running (-) on [PROPORTION: 160 / 885] and [PROPORTION: 572 / 885]\n",
      "         Now Expression is [[DISTRIBUTION: mean=-0.46553672316384176, var=0.6108203276596402]]\n",
      "λ [DISTRIBUTION: mean=-0.46553672316384176, var=0.6108203276596402]\n"
     ]
    },
    {
     "data": {
      "text/plain": [
       "[DISTRIBUTION: mean=-0.46553672316384176, var=0.6108203276596402]"
      ]
     },
     "execution_count": 4,
     "metadata": {},
     "output_type": "execute_result"
    }
   ],
   "source": [
    "run('''\n",
    "(promoters_a - detractors_a)\n",
    "''')"
   ]
  },
  {
   "cell_type": "code",
   "execution_count": 5,
   "metadata": {},
   "outputs": [
    {
     "name": "stdout",
     "output_type": "stream",
     "text": [
      "λ [test, promoters_a, promoters_b]\n",
      "LIST LENGTH: 3\n",
      "λ promoters_a\n",
      "  [PROPORTION: 160 / 885]\n",
      "λ promoters_b\n",
      "  [PROPORTION: 48 / 229]\n",
      "λ test\n",
      "📊 Stat Variable Operator test\n",
      "🏃 Applying List Else ==> <function variable_test at 0x10ece0d08> to [[PROPORTION: 160 / 885], [PROPORTION: 48 / 229]]\n"
     ]
    },
    {
     "data": {
      "text/plain": [
       "P-Value 0.16760827611451956 :: 👍 - Null Hypothesis Confirmed"
      ]
     },
     "execution_count": 5,
     "metadata": {},
     "output_type": "execute_result"
    }
   ],
   "source": [
    "run('''\n",
    "(test promoters_a promoters_b)\n",
    "''')"
   ]
  },
  {
   "cell_type": "code",
   "execution_count": 6,
   "metadata": {},
   "outputs": [
    {
     "name": "stdout",
     "output_type": "stream",
     "text": [
      "λ [test, [promoters_a, -, detractors_a], [promoters_b, -, detractors_b]]\n",
      "LIST LENGTH: 3\n",
      "λ [promoters_a, -, detractors_a]\n",
      "LIST LENGTH: 3\n",
      "λ promoters_a\n",
      "  [PROPORTION: 160 / 885]\n",
      "λ detractors_a\n",
      "  [PROPORTION: 572 / 885]\n",
      "λ -\n",
      "📊 Stat Variable Operator -\n",
      "   👷Running (-) on [PROPORTION: 160 / 885] and [PROPORTION: 572 / 885]\n",
      "         Now Expression is [[DISTRIBUTION: mean=-0.46553672316384176, var=0.6108203276596402]]\n",
      "λ [DISTRIBUTION: mean=-0.46553672316384176, var=0.6108203276596402]\n",
      "λ [promoters_b, -, detractors_b]\n",
      "LIST LENGTH: 3\n",
      "λ promoters_b\n",
      "  [PROPORTION: 48 / 229]\n",
      "λ detractors_b\n",
      "  [PROPORTION: 138 / 229]\n",
      "λ -\n",
      "📊 Stat Variable Operator -\n",
      "   👷Running (-) on [PROPORTION: 48 / 229] and [PROPORTION: 138 / 229]\n",
      "         Now Expression is [[DISTRIBUTION: mean=-0.3930131004366812, var=0.6595447113999793]]\n",
      "λ [DISTRIBUTION: mean=-0.3930131004366812, var=0.6595447113999793]\n",
      "λ test\n",
      "📊 Stat Variable Operator test\n",
      "🏃 Applying List Else ==> <function variable_test at 0x10ece0d08> to [[DISTRIBUTION: mean=-0.46553672316384176, var=0.6108203276596402], [DISTRIBUTION: mean=-0.3930131004366812, var=0.6595447113999793]]\n"
     ]
    },
    {
     "data": {
      "text/plain": [
       "P-Value 0.04303589741444664 :: 🙅 - Reject the Null"
      ]
     },
     "execution_count": 6,
     "metadata": {},
     "output_type": "execute_result"
    }
   ],
   "source": [
    "run('''\n",
    "(test (promoters_a - detractors_a)  (promoters_b - detractors_b))\n",
    "''')"
   ]
  },
  {
   "cell_type": "code",
   "execution_count": 50,
   "metadata": {},
   "outputs": [
    {
     "name": "stdout",
     "output_type": "stream",
     "text": [
      "λ [detractors_b]\n",
      "LIST LENGTH: 1\n",
      "λ detractors_b\n",
      "  [PROPORTION: 125 / 229]\n",
      "🏃 Applying List Else ==> [PROPORTION: 125 / 229] to []\n"
     ]
    }
   ],
   "source": [
    "run('''\n",
    "(test \n",
    "    (100 * (promoters_a - detractors_a))  \n",
    "    (100 * (promoters_b - detractors_b))\n",
    ")\n",
    "''')"
   ]
  },
  {
   "cell_type": "code",
   "execution_count": null,
   "metadata": {},
   "outputs": [],
   "source": []
  }
 ],
 "metadata": {
  "kernelspec": {
   "display_name": "Python 3",
   "language": "python",
   "name": "python3"
  },
  "language_info": {
   "codemirror_mode": {
    "name": "ipython",
    "version": 3
   },
   "file_extension": ".py",
   "mimetype": "text/x-python",
   "name": "python",
   "nbconvert_exporter": "python",
   "pygments_lexer": "ipython3",
   "version": "3.4.0"
  }
 },
 "nbformat": 4,
 "nbformat_minor": 2
}
