{
 "cells": [
  {
   "cell_type": "code",
   "execution_count": 13,
   "metadata": {},
   "outputs": [],
   "source": [
    "from lis import *\n"
   ]
  },
  {
   "cell_type": "code",
   "execution_count": 14,
   "metadata": {},
   "outputs": [
    {
     "name": "stdout",
     "output_type": "stream",
     "text": [
      "IN EVAL: GOT EXPR [+, 10, 20]\n",
      "LIST LENGTH: 3\n",
      "we are in the list else [+, 10, 20]\n",
      "IN EVAL: GOT EXPR +\n",
      "  Got a symbol <built-in function add>\n",
      "IN EVAL: GOT EXPR 10\n",
      "IN EVAL: GOT EXPR 20\n",
      "now applying my list else ==> <built-in function add> to [10, 20]\n"
     ]
    },
    {
     "data": {
      "text/plain": [
       "30"
      ]
     },
     "execution_count": 14,
     "metadata": {},
     "output_type": "execute_result"
    }
   ],
   "source": [
    "run('(+ 10 20)')"
   ]
  },
  {
   "cell_type": "code",
   "execution_count": 16,
   "metadata": {},
   "outputs": [
    {
     "name": "stdout",
     "output_type": "stream",
     "text": [
      "IN EVAL: GOT EXPR [18, -, [16, >, 11], +, 12, /, 3]\n",
      "LIST LENGTH: 7\n",
      "We got a case of the infixes!\n",
      "IN EVAL: GOT EXPR /\n",
      "  Got a symbol <built-in function truediv>\n",
      "    Running / on 12 and 3\n",
      "         Now Expression is [18, -, [16, >, 11], +, 4.0]\n",
      "IN EVAL: GOT EXPR -\n",
      "  Got a symbol <built-in function sub>\n",
      "IN EVAL: GOT EXPR [16, >, 11]\n",
      "LIST LENGTH: 3\n",
      "We got a case of the infixes!\n",
      "IN EVAL: GOT EXPR >\n",
      "  Got a symbol <built-in function gt>\n",
      "    Running > on 16 and 11\n",
      "         Now Expression is [True]\n",
      "IN EVAL: GOT EXPR True\n",
      "    Running - on 18 and True\n",
      "         Now Expression is [17, +, 4.0]\n",
      "IN EVAL: GOT EXPR +\n",
      "  Got a symbol <built-in function add>\n",
      "    Running + on 17 and 4.0\n",
      "         Now Expression is [21.0]\n",
      "IN EVAL: GOT EXPR 21.0\n"
     ]
    },
    {
     "data": {
      "text/plain": [
       "21.0"
      ]
     },
     "execution_count": 16,
     "metadata": {},
     "output_type": "execute_result"
    }
   ],
   "source": [
    "run('''\n",
    "(18 - (16 > 11) + 12 / 3)\n",
    "''')"
   ]
  },
  {
   "cell_type": "code",
   "execution_count": 17,
   "metadata": {},
   "outputs": [
    {
     "name": "stdout",
     "output_type": "stream",
     "text": [
      "IN EVAL: GOT EXPR [define, blah, 5, [blah, *, blah]]\n",
      "LIST LENGTH: 4\n",
      "IN EVAL: GOT EXPR 5\n",
      "Defined! Now running the rest of list [blah, *, blah]\n",
      "IN EVAL: GOT EXPR [blah, *, blah]\n",
      "LIST LENGTH: 3\n",
      "We got a case of the infixes!\n",
      "IN EVAL: GOT EXPR *\n",
      "  Got a symbol <built-in function mul>\n",
      "IN EVAL: GOT EXPR blah\n",
      "  Got a symbol 5\n",
      "IN EVAL: GOT EXPR blah\n",
      "  Got a symbol 5\n",
      "    Running * on 5 and 5\n",
      "         Now Expression is [25]\n",
      "IN EVAL: GOT EXPR 25\n"
     ]
    },
    {
     "data": {
      "text/plain": [
       "25"
      ]
     },
     "execution_count": 17,
     "metadata": {},
     "output_type": "execute_result"
    }
   ],
   "source": [
    "\n",
    "cont = '''\n",
    "(define blah 5 (blah * blah))\n",
    "'''\n",
    "prs = parse(tokenize(cont))\n",
    "eval(prs, base_environment)\n"
   ]
  },
  {
   "cell_type": "code",
   "execution_count": 18,
   "metadata": {},
   "outputs": [
    {
     "name": "stdout",
     "output_type": "stream",
     "text": [
      "IN EVAL: GOT EXPR []\n",
      "LIST LENGTH: 0\n",
      "Returning NONE\n"
     ]
    },
    {
     "data": {
      "text/plain": [
       "True"
      ]
     },
     "execution_count": 18,
     "metadata": {},
     "output_type": "execute_result"
    }
   ],
   "source": [
    "run('()') is None"
   ]
  },
  {
   "cell_type": "code",
   "execution_count": 19,
   "metadata": {},
   "outputs": [
    {
     "name": "stdout",
     "output_type": "stream",
     "text": [
      "IN EVAL: GOT EXPR [lambda, [x], [*, x, x]]\n",
      "LIST LENGTH: 3\n"
     ]
    }
   ],
   "source": [
    "#\n",
    "cont = '''\n",
    "    (lambda (x) (* x x))\n",
    "'''\n",
    "prs = parse(tokenize(cont))\n",
    "prs\n",
    "y = eval(prs, base_environment)\n",
    "\n"
   ]
  },
  {
   "cell_type": "code",
   "execution_count": 20,
   "metadata": {},
   "outputs": [
    {
     "data": {
      "text/plain": [
       "[*, x, x]"
      ]
     },
     "execution_count": 20,
     "metadata": {},
     "output_type": "execute_result"
    }
   ],
   "source": [
    "type(y)\n",
    "y.code"
   ]
  },
  {
   "cell_type": "code",
   "execution_count": 21,
   "metadata": {},
   "outputs": [
    {
     "name": "stdout",
     "output_type": "stream",
     "text": [
      "IN LAMBDA APPLICATION, CODE :[*, x, x]\n",
      "IN LAMBDA APPLICATION, NEWENV :{'*': <built-in function mul>, 'quad': (lambda ([x]) ([sqr, [sqr, x]]), '!=': <built-in function ne>, '=': <built-in function eq>, '-': <built-in function sub>, '/': <built-in function truediv>, '<=': <built-in function le>, '>=': <built-in function ge>, 'blah': 5, '>': <built-in function gt>, 'sqr': (lambda ([x]) ([*, x, x]), 'print': <function <lambda> at 0x107513d08>, 'nil': None, '+': <built-in function add>, '<': <built-in function lt>, 'x': 5}\n",
      "IN EVAL: GOT EXPR [*, x, x]\n",
      "LIST LENGTH: 3\n",
      "we are in the list else [*, x, x]\n",
      "IN EVAL: GOT EXPR *\n",
      "  Got a symbol <built-in function mul>\n",
      "IN EVAL: GOT EXPR x\n",
      "  Got a symbol 5\n",
      "IN EVAL: GOT EXPR x\n",
      "  Got a symbol 5\n",
      "now applying my list else ==> <built-in function mul> to [5, 5]\n"
     ]
    },
    {
     "data": {
      "text/plain": [
       "25"
      ]
     },
     "execution_count": 21,
     "metadata": {},
     "output_type": "execute_result"
    }
   ],
   "source": [
    "apply(y, [5], base_environment)"
   ]
  },
  {
   "cell_type": "code",
   "execution_count": 22,
   "metadata": {},
   "outputs": [
    {
     "name": "stdout",
     "output_type": "stream",
     "text": [
      "IN EVAL: GOT EXPR [define, sqr, [lambda, [x], [*, x, x]], [sqr, [sqr, 10]]]\n",
      "LIST LENGTH: 4\n",
      "IN EVAL: GOT EXPR [lambda, [x], [*, x, x]]\n",
      "LIST LENGTH: 3\n",
      "Defined! Now running the rest of list [sqr, [sqr, 10]]\n",
      "IN EVAL: GOT EXPR [sqr, [sqr, 10]]\n",
      "LIST LENGTH: 2\n",
      "we are in the list else [sqr, [sqr, 10]]\n",
      "IN EVAL: GOT EXPR sqr\n",
      "  Got a symbol (lambda ([x]) ([*, x, x])\n",
      "IN EVAL: GOT EXPR [sqr, 10]\n",
      "LIST LENGTH: 2\n",
      "we are in the list else [sqr, 10]\n",
      "IN EVAL: GOT EXPR sqr\n",
      "  Got a symbol (lambda ([x]) ([*, x, x])\n",
      "IN EVAL: GOT EXPR 10\n",
      "now applying my list else ==> (lambda ([x]) ([*, x, x]) to [10]\n",
      "IN LAMBDA APPLICATION, CODE :[*, x, x]\n",
      "IN LAMBDA APPLICATION, NEWENV :{'*': <built-in function mul>, 'quad': (lambda ([x]) ([sqr, [sqr, x]]), '!=': <built-in function ne>, '=': <built-in function eq>, '-': <built-in function sub>, '/': <built-in function truediv>, '<=': <built-in function le>, '>=': <built-in function ge>, 'blah': 5, '>': <built-in function gt>, 'sqr': (lambda ([x]) ([*, x, x]), 'print': <function <lambda> at 0x107513d08>, 'nil': None, '+': <built-in function add>, '<': <built-in function lt>, 'x': 10}\n",
      "IN EVAL: GOT EXPR [*, x, x]\n",
      "LIST LENGTH: 3\n",
      "we are in the list else [*, x, x]\n",
      "IN EVAL: GOT EXPR *\n",
      "  Got a symbol <built-in function mul>\n",
      "IN EVAL: GOT EXPR x\n",
      "  Got a symbol 10\n",
      "IN EVAL: GOT EXPR x\n",
      "  Got a symbol 10\n",
      "now applying my list else ==> <built-in function mul> to [10, 10]\n",
      "now applying my list else ==> (lambda ([x]) ([*, x, x]) to [100]\n",
      "IN LAMBDA APPLICATION, CODE :[*, x, x]\n",
      "IN LAMBDA APPLICATION, NEWENV :{'*': <built-in function mul>, 'quad': (lambda ([x]) ([sqr, [sqr, x]]), '!=': <built-in function ne>, '=': <built-in function eq>, '-': <built-in function sub>, '/': <built-in function truediv>, '<=': <built-in function le>, '>=': <built-in function ge>, 'blah': 5, '>': <built-in function gt>, 'sqr': (lambda ([x]) ([*, x, x]), 'print': <function <lambda> at 0x107513d08>, 'nil': None, '+': <built-in function add>, '<': <built-in function lt>, 'x': 100}\n",
      "IN EVAL: GOT EXPR [*, x, x]\n",
      "LIST LENGTH: 3\n",
      "we are in the list else [*, x, x]\n",
      "IN EVAL: GOT EXPR *\n",
      "  Got a symbol <built-in function mul>\n",
      "IN EVAL: GOT EXPR x\n",
      "  Got a symbol 100\n",
      "IN EVAL: GOT EXPR x\n",
      "  Got a symbol 100\n",
      "now applying my list else ==> <built-in function mul> to [100, 100]\n"
     ]
    },
    {
     "data": {
      "text/plain": [
       "10000"
      ]
     },
     "execution_count": 22,
     "metadata": {},
     "output_type": "execute_result"
    }
   ],
   "source": [
    "#\n",
    "cont = '''\n",
    "(\n",
    "    define sqr (lambda (x) (* x x))\n",
    "    (sqr (sqr 10))\n",
    ")\n",
    "'''\n",
    "prs = parse(tokenize(cont))\n",
    "prs\n",
    "eval(prs, base_environment)\n"
   ]
  },
  {
   "cell_type": "code",
   "execution_count": 9,
   "metadata": {},
   "outputs": [
    {
     "name": "stdout",
     "output_type": "stream",
     "text": [
      "IN EVAL: GOT EXPR [define, sqr, [lambda, [x], [*, x, x]], [sqr, [sqr, 10]]]\n",
      "LIST LENGTH: 4\n",
      "IN EVAL: GOT EXPR [lambda, [x], [*, x, x]]\n",
      "LIST LENGTH: 3\n",
      "Defined! Now running the rest of list [sqr, [sqr, 10]]\n",
      "IN EVAL: GOT EXPR [sqr, [sqr, 10]]\n",
      "LIST LENGTH: 2\n",
      "we are in the list else [sqr, [sqr, 10]]\n",
      "IN EVAL: GOT EXPR sqr\n",
      "  Got a symbol (lambda ([x]) ([*, x, x])\n",
      "IN EVAL: GOT EXPR [sqr, 10]\n",
      "LIST LENGTH: 2\n",
      "we are in the list else [sqr, 10]\n",
      "IN EVAL: GOT EXPR sqr\n",
      "  Got a symbol (lambda ([x]) ([*, x, x])\n",
      "IN EVAL: GOT EXPR 10\n",
      "now applying my list else ==> (lambda ([x]) ([*, x, x]) to [10]\n",
      "IN LAMBDA APPLICATION, CODE :[*, x, x]\n",
      "IN LAMBDA APPLICATION, NEWENV :{'*': <built-in function mul>, '!=': <built-in function ne>, '=': <built-in function eq>, '-': <built-in function sub>, '/': <built-in function truediv>, '<=': <built-in function le>, '>=': <built-in function ge>, 'blah': 5, '>': <built-in function gt>, 'sqr': (lambda ([x]) ([*, x, x]), 'print': <function <lambda> at 0x107513d08>, 'nil': None, '+': <built-in function add>, '<': <built-in function lt>, 'x': 10}\n",
      "IN EVAL: GOT EXPR [*, x, x]\n",
      "LIST LENGTH: 3\n",
      "we are in the list else [*, x, x]\n",
      "IN EVAL: GOT EXPR *\n",
      "  Got a symbol <built-in function mul>\n",
      "IN EVAL: GOT EXPR x\n",
      "  Got a symbol 10\n",
      "IN EVAL: GOT EXPR x\n",
      "  Got a symbol 10\n",
      "now applying my list else ==> <built-in function mul> to [10, 10]\n",
      "now applying my list else ==> (lambda ([x]) ([*, x, x]) to [100]\n",
      "IN LAMBDA APPLICATION, CODE :[*, x, x]\n",
      "IN LAMBDA APPLICATION, NEWENV :{'*': <built-in function mul>, '!=': <built-in function ne>, '=': <built-in function eq>, '-': <built-in function sub>, '/': <built-in function truediv>, '<=': <built-in function le>, '>=': <built-in function ge>, 'blah': 5, '>': <built-in function gt>, 'sqr': (lambda ([x]) ([*, x, x]), 'print': <function <lambda> at 0x107513d08>, 'nil': None, '+': <built-in function add>, '<': <built-in function lt>, 'x': 100}\n",
      "IN EVAL: GOT EXPR [*, x, x]\n",
      "LIST LENGTH: 3\n",
      "we are in the list else [*, x, x]\n",
      "IN EVAL: GOT EXPR *\n",
      "  Got a symbol <built-in function mul>\n",
      "IN EVAL: GOT EXPR x\n",
      "  Got a symbol 100\n",
      "IN EVAL: GOT EXPR x\n",
      "  Got a symbol 100\n",
      "now applying my list else ==> <built-in function mul> to [100, 100]\n"
     ]
    },
    {
     "data": {
      "text/plain": [
       "10000"
      ]
     },
     "execution_count": 9,
     "metadata": {},
     "output_type": "execute_result"
    }
   ],
   "source": [
    "run('''\n",
    "(\n",
    "    define sqr (lambda (x) (* x x))\n",
    "    (sqr (sqr 10))\n",
    ")\n",
    "''')"
   ]
  },
  {
   "cell_type": "code",
   "execution_count": 23,
   "metadata": {},
   "outputs": [
    {
     "name": "stdout",
     "output_type": "stream",
     "text": [
      "IN EVAL: GOT EXPR [define, sqr, [lambda, [x], [*, x, x]], [define, quad, [lambda, [x], [sqr, [sqr, x]]], [4, +, [quad, 100]]]]\n",
      "LIST LENGTH: 4\n",
      "IN EVAL: GOT EXPR [lambda, [x], [*, x, x]]\n",
      "LIST LENGTH: 3\n",
      "Defined! Now running the rest of list [define, quad, [lambda, [x], [sqr, [sqr, x]]], [4, +, [quad, 100]]]\n",
      "IN EVAL: GOT EXPR [define, quad, [lambda, [x], [sqr, [sqr, x]]], [4, +, [quad, 100]]]\n",
      "LIST LENGTH: 4\n",
      "IN EVAL: GOT EXPR [lambda, [x], [sqr, [sqr, x]]]\n",
      "LIST LENGTH: 3\n",
      "Defined! Now running the rest of list [4, +, [quad, 100]]\n",
      "IN EVAL: GOT EXPR [4, +, [quad, 100]]\n",
      "LIST LENGTH: 3\n",
      "We got a case of the infixes!\n",
      "IN EVAL: GOT EXPR +\n",
      "  Got a symbol <built-in function add>\n",
      "IN EVAL: GOT EXPR [quad, 100]\n",
      "LIST LENGTH: 2\n",
      "we are in the list else [quad, 100]\n",
      "IN EVAL: GOT EXPR quad\n",
      "  Got a symbol (lambda ([x]) ([sqr, [sqr, x]])\n",
      "IN EVAL: GOT EXPR 100\n",
      "now applying my list else ==> (lambda ([x]) ([sqr, [sqr, x]]) to [100]\n",
      "IN LAMBDA APPLICATION, CODE :[sqr, [sqr, x]]\n",
      "IN LAMBDA APPLICATION, NEWENV :{'*': <built-in function mul>, 'quad': (lambda ([x]) ([sqr, [sqr, x]]), '!=': <built-in function ne>, '=': <built-in function eq>, '-': <built-in function sub>, '/': <built-in function truediv>, '<=': <built-in function le>, '>=': <built-in function ge>, 'blah': 5, '>': <built-in function gt>, 'sqr': (lambda ([x]) ([*, x, x]), 'print': <function <lambda> at 0x107513d08>, 'nil': None, '+': <built-in function add>, '<': <built-in function lt>, 'x': 100}\n",
      "IN EVAL: GOT EXPR [sqr, [sqr, x]]\n",
      "LIST LENGTH: 2\n",
      "we are in the list else [sqr, [sqr, x]]\n",
      "IN EVAL: GOT EXPR sqr\n",
      "  Got a symbol (lambda ([x]) ([*, x, x])\n",
      "IN EVAL: GOT EXPR [sqr, x]\n",
      "LIST LENGTH: 2\n",
      "we are in the list else [sqr, x]\n",
      "IN EVAL: GOT EXPR sqr\n",
      "  Got a symbol (lambda ([x]) ([*, x, x])\n",
      "IN EVAL: GOT EXPR x\n",
      "  Got a symbol 100\n",
      "now applying my list else ==> (lambda ([x]) ([*, x, x]) to [100]\n",
      "IN LAMBDA APPLICATION, CODE :[*, x, x]\n",
      "IN LAMBDA APPLICATION, NEWENV :{'x': 100, '!=': <built-in function ne>, '-': <built-in function sub>, '<=': <built-in function le>, '>=': <built-in function ge>, 'blah': 5, '<': <built-in function lt>, '+': <built-in function add>, '>': <built-in function gt>, 'quad': (lambda ([x]) ([sqr, [sqr, x]]), '=': <built-in function eq>, '/': <built-in function truediv>, '*': <built-in function mul>, 'sqr': (lambda ([x]) ([*, x, x]), 'print': <function <lambda> at 0x107513d08>, 'nil': None}\n",
      "IN EVAL: GOT EXPR [*, x, x]\n",
      "LIST LENGTH: 3\n",
      "we are in the list else [*, x, x]\n",
      "IN EVAL: GOT EXPR *\n",
      "  Got a symbol <built-in function mul>\n",
      "IN EVAL: GOT EXPR x\n",
      "  Got a symbol 100\n",
      "IN EVAL: GOT EXPR x\n",
      "  Got a symbol 100\n",
      "now applying my list else ==> <built-in function mul> to [100, 100]\n",
      "now applying my list else ==> (lambda ([x]) ([*, x, x]) to [10000]\n",
      "IN LAMBDA APPLICATION, CODE :[*, x, x]\n",
      "IN LAMBDA APPLICATION, NEWENV :{'x': 10000, '!=': <built-in function ne>, '-': <built-in function sub>, '<=': <built-in function le>, '>=': <built-in function ge>, 'blah': 5, '<': <built-in function lt>, '+': <built-in function add>, '>': <built-in function gt>, 'quad': (lambda ([x]) ([sqr, [sqr, x]]), '=': <built-in function eq>, '/': <built-in function truediv>, '*': <built-in function mul>, 'sqr': (lambda ([x]) ([*, x, x]), 'print': <function <lambda> at 0x107513d08>, 'nil': None}\n",
      "IN EVAL: GOT EXPR [*, x, x]\n",
      "LIST LENGTH: 3\n",
      "we are in the list else [*, x, x]\n",
      "IN EVAL: GOT EXPR *\n",
      "  Got a symbol <built-in function mul>\n",
      "IN EVAL: GOT EXPR x\n",
      "  Got a symbol 10000\n",
      "IN EVAL: GOT EXPR x\n",
      "  Got a symbol 10000\n",
      "now applying my list else ==> <built-in function mul> to [10000, 10000]\n",
      "    Running + on 4 and 100000000\n",
      "         Now Expression is [100000004]\n",
      "IN EVAL: GOT EXPR 100000004\n"
     ]
    },
    {
     "data": {
      "text/plain": [
       "100000004"
      ]
     },
     "execution_count": 23,
     "metadata": {},
     "output_type": "execute_result"
    }
   ],
   "source": [
    "run('''\n",
    "(\n",
    "    define sqr (lambda (x) (* x x))\n",
    "    (define quad (lambda (x) (sqr (sqr x)))\n",
    "        (4 + (quad 100))\n",
    "    )\n",
    ")\n",
    "''')"
   ]
  },
  {
   "cell_type": "code",
   "execution_count": null,
   "metadata": {},
   "outputs": [],
   "source": []
  }
 ],
 "metadata": {
  "kernelspec": {
   "display_name": "Python 3",
   "language": "python",
   "name": "python3"
  },
  "language_info": {
   "codemirror_mode": {
    "name": "ipython",
    "version": 3
   },
   "file_extension": ".py",
   "mimetype": "text/x-python",
   "name": "python",
   "nbconvert_exporter": "python",
   "pygments_lexer": "ipython3",
   "version": "3.4.0"
  }
 },
 "nbformat": 4,
 "nbformat_minor": 2
}
