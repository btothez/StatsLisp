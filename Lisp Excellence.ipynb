{
 "cells": [
  {
   "cell_type": "code",
   "execution_count": 1,
   "metadata": {},
   "outputs": [],
   "source": [
    "from lis import *\n"
   ]
  },
  {
   "cell_type": "code",
   "execution_count": 2,
   "metadata": {},
   "outputs": [
    {
     "name": "stdout",
     "output_type": "stream",
     "text": [
      "λ [+, 10, 20]\n",
      "LIST LENGTH: 3\n",
      "λ 10\n",
      "λ 20\n",
      "λ +\n",
      "  <built-in function add>\n",
      "🏃 Applying List Else ==> <built-in function add> to [10, 20]\n"
     ]
    },
    {
     "data": {
      "text/plain": [
       "30"
      ]
     },
     "execution_count": 2,
     "metadata": {},
     "output_type": "execute_result"
    }
   ],
   "source": [
    "run('(+ 10 20)')"
   ]
  },
  {
   "cell_type": "code",
   "execution_count": 3,
   "metadata": {},
   "outputs": [
    {
     "name": "stdout",
     "output_type": "stream",
     "text": [
      "λ [18, -, [16, >, 11], +, 12, /, 3]\n",
      "LIST LENGTH: 7\n",
      "λ /\n",
      "  <built-in function truediv>\n",
      "   👷Running (/) on 12 and 3\n",
      "         Now Expression is [18, -, [16, >, 11], +, 4.0]\n",
      "λ [16, >, 11]\n",
      "LIST LENGTH: 3\n",
      "λ >\n",
      "  <built-in function gt>\n",
      "   👷Running (>) on 16 and 11\n",
      "         Now Expression is [True]\n",
      "λ True\n",
      "λ -\n",
      "  <built-in function sub>\n",
      "   👷Running (-) on 18 and True\n",
      "         Now Expression is [17, +, 4.0]\n",
      "λ +\n",
      "  <built-in function add>\n",
      "   👷Running (+) on 17 and 4.0\n",
      "         Now Expression is [21.0]\n",
      "λ 21.0\n"
     ]
    },
    {
     "data": {
      "text/plain": [
       "21.0"
      ]
     },
     "execution_count": 3,
     "metadata": {},
     "output_type": "execute_result"
    }
   ],
   "source": [
    "run('''\n",
    "(18 - (16 > 11) + 12 / 3)\n",
    "''')"
   ]
  },
  {
   "cell_type": "code",
   "execution_count": 4,
   "metadata": {},
   "outputs": [
    {
     "name": "stdout",
     "output_type": "stream",
     "text": [
      "λ [begin, [+, 1, 2], [define, boaz, 42], [*, boaz, boaz]]\n",
      "LIST LENGTH: 4\n",
      "λ [+, 1, 2]\n",
      "LIST LENGTH: 3\n",
      "λ 1\n",
      "λ 2\n",
      "λ +\n",
      "  <built-in function add>\n",
      "🏃 Applying List Else ==> <built-in function add> to [1, 2]\n",
      "λ [define, boaz, 42]\n",
      "LIST LENGTH: 3\n",
      "λ 42\n",
      "λ [*, boaz, boaz]\n",
      "LIST LENGTH: 3\n",
      "λ boaz\n",
      "  42\n",
      "λ boaz\n",
      "  42\n",
      "λ *\n",
      "  <built-in function mul>\n",
      "🏃 Applying List Else ==> <built-in function mul> to [42, 42]\n"
     ]
    },
    {
     "data": {
      "text/plain": [
       "1764"
      ]
     },
     "execution_count": 4,
     "metadata": {},
     "output_type": "execute_result"
    }
   ],
   "source": [
    "# Let's checkout begin, it should return the last\n",
    "run('''\n",
    "(begin\n",
    "    (+ 1 2)\n",
    "    (define boaz 42)\n",
    "    (* boaz boaz)\n",
    ")\n",
    "''')"
   ]
  },
  {
   "cell_type": "code",
   "execution_count": 5,
   "metadata": {},
   "outputs": [
    {
     "name": "stdout",
     "output_type": "stream",
     "text": [
      "λ []\n",
      "LIST LENGTH: 0\n",
      "😢\n"
     ]
    },
    {
     "data": {
      "text/plain": [
       "True"
      ]
     },
     "execution_count": 5,
     "metadata": {},
     "output_type": "execute_result"
    }
   ],
   "source": [
    "run('()') is None"
   ]
  },
  {
   "cell_type": "code",
   "execution_count": 8,
   "metadata": {},
   "outputs": [
    {
     "name": "stdout",
     "output_type": "stream",
     "text": [
      "IN EVAL: GOT EXPR [lambda, [x], [*, x, x]]\n",
      "LIST LENGTH: 3\n"
     ]
    }
   ],
   "source": [
    "#\n",
    "cont = '''\n",
    "    (lambda (x) (* x x))\n",
    "'''\n",
    "prs = parse(tokenize(cont))\n",
    "prs\n",
    "y = eval(prs, base_environment)\n",
    "\n"
   ]
  },
  {
   "cell_type": "code",
   "execution_count": 9,
   "metadata": {},
   "outputs": [
    {
     "data": {
      "text/plain": [
       "[*, x, x]"
      ]
     },
     "execution_count": 9,
     "metadata": {},
     "output_type": "execute_result"
    }
   ],
   "source": [
    "type(y)\n",
    "y.code"
   ]
  },
  {
   "cell_type": "code",
   "execution_count": 10,
   "metadata": {},
   "outputs": [
    {
     "name": "stdout",
     "output_type": "stream",
     "text": [
      "IN LAMBDA APPLICATION, CODE :[*, x, x]\n",
      "IN LAMBDA APPLICATION, NEWENV :{'*': <built-in function mul>, '/': <built-in function truediv>, '!=': <built-in function ne>, '=': <built-in function eq>, '-': <built-in function sub>, 'boaz': 42, '<=': <built-in function le>, '>=': <built-in function ge>, 'blah': 5, '<': <built-in function lt>, 'print': <function <lambda> at 0x10e847e18>, 'nil': None, '+': <built-in function add>, '>': <built-in function gt>, 'x': 5}\n",
      "IN EVAL: GOT EXPR [*, x, x]\n",
      "LIST LENGTH: 3\n",
      "we are in the list else [*, x, x]\n",
      "IN EVAL: GOT EXPR x\n",
      "  Got a symbol 5\n",
      "IN EVAL: GOT EXPR x\n",
      "  Got a symbol 5\n",
      "IN EVAL: GOT EXPR *\n",
      "  Got a symbol <built-in function mul>\n",
      "now applying my list else ==> <built-in function mul> to [5, 5]\n"
     ]
    },
    {
     "data": {
      "text/plain": [
       "25"
      ]
     },
     "execution_count": 10,
     "metadata": {},
     "output_type": "execute_result"
    }
   ],
   "source": [
    "apply(y, [5], base_environment)"
   ]
  },
  {
   "cell_type": "code",
   "execution_count": 7,
   "metadata": {
    "scrolled": false
   },
   "outputs": [
    {
     "name": "stdout",
     "output_type": "stream",
     "text": [
      "λ [begin, [define, sqr, [lambda, [x], [*, x, x]]], [define, boaz, 41], [define, quad, [lambda, [x], [sqr, [sqr, x]]]], [quad, boaz]]\n",
      "LIST LENGTH: 5\n",
      "λ [define, sqr, [lambda, [x], [*, x, x]]]\n",
      "LIST LENGTH: 3\n",
      "λ [lambda, [x], [*, x, x]]\n",
      "LIST LENGTH: 3\n",
      "λ [define, boaz, 41]\n",
      "LIST LENGTH: 3\n",
      "λ 41\n",
      "λ [define, quad, [lambda, [x], [sqr, [sqr, x]]]]\n",
      "LIST LENGTH: 3\n",
      "λ [lambda, [x], [sqr, [sqr, x]]]\n",
      "LIST LENGTH: 3\n",
      "λ [quad, boaz]\n",
      "LIST LENGTH: 2\n",
      "λ boaz\n",
      "  41\n",
      "λ quad\n",
      "  (lambda ([x]) ([sqr, [sqr, x]])\n",
      "🏃 Applying List Else ==> (lambda ([x]) ([sqr, [sqr, x]]) to [41]\n",
      "IN LAMBDA APPLICATION, CODE :[sqr, [sqr, x]]\n",
      "IN LAMBDA APPLICATION, NEWENV :{'*': <built-in function mul>, 'quad': (lambda ([x]) ([sqr, [sqr, x]]), '/': <built-in function truediv>, '!=': <built-in function ne>, '=': <built-in function eq>, '-': <built-in function sub>, 'boaz': 41, '<=': <built-in function le>, '>=': <built-in function ge>, '>': <built-in function gt>, 'sqr': (lambda ([x]) ([*, x, x]), 'print': <function <lambda> at 0x1075c31e0>, 'nil': None, '+': <built-in function add>, '<': <built-in function lt>, 'x': 41}\n",
      "λ [sqr, [sqr, x]]\n",
      "LIST LENGTH: 2\n",
      "λ [sqr, x]\n",
      "LIST LENGTH: 2\n",
      "λ x\n",
      "  41\n",
      "λ sqr\n",
      "  (lambda ([x]) ([*, x, x])\n",
      "🏃 Applying List Else ==> (lambda ([x]) ([*, x, x]) to [41]\n",
      "IN LAMBDA APPLICATION, CODE :[*, x, x]\n",
      "IN LAMBDA APPLICATION, NEWENV :{'x': 41, '!=': <built-in function ne>, '/': <built-in function truediv>, 'boaz': 41, '<=': <built-in function le>, '>=': <built-in function ge>, '<': <built-in function lt>, '+': <built-in function add>, '>': <built-in function gt>, 'quad': (lambda ([x]) ([sqr, [sqr, x]]), '=': <built-in function eq>, '-': <built-in function sub>, '*': <built-in function mul>, 'sqr': (lambda ([x]) ([*, x, x]), 'print': <function <lambda> at 0x1075c31e0>, 'nil': None}\n",
      "λ [*, x, x]\n",
      "LIST LENGTH: 3\n",
      "λ x\n",
      "  41\n",
      "λ x\n",
      "  41\n",
      "λ *\n",
      "  <built-in function mul>\n",
      "🏃 Applying List Else ==> <built-in function mul> to [41, 41]\n",
      "λ sqr\n",
      "  (lambda ([x]) ([*, x, x])\n",
      "🏃 Applying List Else ==> (lambda ([x]) ([*, x, x]) to [1681]\n",
      "IN LAMBDA APPLICATION, CODE :[*, x, x]\n",
      "IN LAMBDA APPLICATION, NEWENV :{'x': 1681, '!=': <built-in function ne>, '/': <built-in function truediv>, 'boaz': 41, '<=': <built-in function le>, '>=': <built-in function ge>, '<': <built-in function lt>, '+': <built-in function add>, '>': <built-in function gt>, 'quad': (lambda ([x]) ([sqr, [sqr, x]]), '=': <built-in function eq>, '-': <built-in function sub>, '*': <built-in function mul>, 'sqr': (lambda ([x]) ([*, x, x]), 'print': <function <lambda> at 0x1075c31e0>, 'nil': None}\n",
      "λ [*, x, x]\n",
      "LIST LENGTH: 3\n",
      "λ x\n",
      "  1681\n",
      "λ x\n",
      "  1681\n",
      "λ *\n",
      "  <built-in function mul>\n",
      "🏃 Applying List Else ==> <built-in function mul> to [1681, 1681]\n"
     ]
    },
    {
     "data": {
      "text/plain": [
       "2825761"
      ]
     },
     "execution_count": 7,
     "metadata": {},
     "output_type": "execute_result"
    }
   ],
   "source": [
    "#\n",
    "cont = '''\n",
    "(begin\n",
    "    (define sqr (lambda (x) (* x x)))\n",
    "    (define boaz 41)\n",
    "    (define quad (lambda (x) (sqr (sqr x))))\n",
    "    (quad boaz)\n",
    ")\n",
    "'''\n",
    "run(cont)\n",
    "\n"
   ]
  },
  {
   "cell_type": "code",
   "execution_count": null,
   "metadata": {},
   "outputs": [],
   "source": []
  }
 ],
 "metadata": {
  "kernelspec": {
   "display_name": "Python 3",
   "language": "python",
   "name": "python3"
  },
  "language_info": {
   "codemirror_mode": {
    "name": "ipython",
    "version": 3
   },
   "file_extension": ".py",
   "mimetype": "text/x-python",
   "name": "python",
   "nbconvert_exporter": "python",
   "pygments_lexer": "ipython3",
   "version": "3.4.0"
  }
 },
 "nbformat": 4,
 "nbformat_minor": 2
}
