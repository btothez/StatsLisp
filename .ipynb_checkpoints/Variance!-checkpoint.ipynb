{
 "cells": [
  {
   "cell_type": "code",
   "execution_count": 1,
   "metadata": {},
   "outputs": [],
   "source": [
    "import pandas as pd\n",
    "import numpy as np\n",
    "import matplotlib\n",
    "import matplotlib.pyplot as plt\n",
    "import scipy.stats as stats\n",
    "\n",
    "from lis import *\n"
   ]
  },
  {
   "cell_type": "code",
   "execution_count": 5,
   "metadata": {},
   "outputs": [
    {
     "name": "stdout",
     "output_type": "stream",
     "text": [
      "promoters.describe()\n",
      "count    10000.000000\n",
      "mean         0.180500\n",
      "std          0.384623\n",
      "min          0.000000\n",
      "25%          0.000000\n",
      "50%          0.000000\n",
      "75%          0.000000\n",
      "max          1.000000\n",
      "dtype: float64\n",
      "\n",
      "passives.describe()\n",
      "count    10000.000000\n",
      "mean         0.183400\n",
      "std          0.387013\n",
      "min          0.000000\n",
      "25%          0.000000\n",
      "50%          0.000000\n",
      "75%          0.000000\n",
      "max          1.000000\n",
      "dtype: float64\n",
      "\n",
      "count    10000.000000\n",
      "mean         0.636100\n",
      "std          0.481144\n",
      "min          0.000000\n",
      "25%          0.000000\n",
      "50%          1.000000\n",
      "75%          1.000000\n",
      "max          1.000000\n",
      "dtype: float64\n",
      "detractors.describe()\n"
     ]
    }
   ],
   "source": [
    "qnps_answers = np.random.choice(\n",
    "    a=[i for i in range(11)],\n",
    "    p=[(1/11) for i in range(11)],\n",
    "    size=10000)\n",
    "\n",
    "\n",
    "\n",
    "nps = pd.Series(qnps_answers)\n",
    "promoters = nps.apply(lambda x: 1 if x in [9, 10] else 0)\n",
    "passives = nps.apply(lambda x: 1 if x in [7, 8] else 0)\n",
    "detractors = nps.apply(lambda x: 1 if x < 7 else 0)\n",
    "print('promoters.describe()')\n",
    "print(promoters.describe())\n",
    "print()\n",
    "print('passives.describe()')\n",
    "print(passives.describe())\n",
    "print()\n",
    "print(detractors.describe())\n",
    "print('detractors.describe()')\n",
    "\n"
   ]
  },
  {
   "cell_type": "markdown",
   "metadata": {},
   "source": [
    "### Promoters:\n",
    "    * variance\n",
    "    * mean\n",
    "    * numerator \n",
    "    * denominator"
   ]
  },
  {
   "cell_type": "code",
   "execution_count": 7,
   "metadata": {},
   "outputs": [
    {
     "name": "stdout",
     "output_type": "stream",
     "text": [
      "promoters variance 0.14793454345434542\n",
      "promoters mean 0.1805\n",
      "promoters numerator 1805\n",
      "promoters denominator 10000\n"
     ]
    }
   ],
   "source": [
    "print('promoters variance', promoters.var())\n",
    "print('promoters mean', promoters.mean())\n",
    "print('promoters numerator', promoters[promoters == 1].count())\n",
    "print('promoters denominator', promoters.count())"
   ]
  },
  {
   "cell_type": "markdown",
   "metadata": {},
   "source": [
    "### Starting easy, I want to find the variance of (promoters * 15)\n",
    "    * The variance of the array of 0's and 1's is 0.18\n",
    "    * The actual variance is:\n",
    "$$ \\frac{p(1-p)}{n} $$"
   ]
  },
  {
   "cell_type": "code",
   "execution_count": null,
   "metadata": {},
   "outputs": [],
   "source": []
  }
 ],
 "metadata": {
  "kernelspec": {
   "display_name": "Python 3",
   "language": "python",
   "name": "python3"
  },
  "language_info": {
   "codemirror_mode": {
    "name": "ipython",
    "version": 3
   },
   "file_extension": ".py",
   "mimetype": "text/x-python",
   "name": "python",
   "nbconvert_exporter": "python",
   "pygments_lexer": "ipython3",
   "version": "3.4.0"
  }
 },
 "nbformat": 4,
 "nbformat_minor": 2
}
