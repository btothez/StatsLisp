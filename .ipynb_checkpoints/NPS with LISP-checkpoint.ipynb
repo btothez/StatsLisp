{
 "cells": [
  {
   "cell_type": "code",
   "execution_count": 1,
   "metadata": {},
   "outputs": [],
   "source": [
    "import pandas as pd\n",
    "import numpy as np\n",
    "from lis import *"
   ]
  },
  {
   "cell_type": "code",
   "execution_count": 2,
   "metadata": {},
   "outputs": [
    {
     "name": "stdout",
     "output_type": "stream",
     "text": [
      "promoters.mean() :  0.17062146892655367\n",
      "\n",
      "passives.mean() :  0.18305084745762712\n",
      "\n",
      "detractors.mean() :  0.6463276836158192\n"
     ]
    }
   ],
   "source": [
    "qnps_answers = np.random.choice(\n",
    "    a=[i for i in range(11)],\n",
    "    p=[(1/11) for i in range(11)],\n",
    "    size=885)\n",
    "\n",
    "nps = pd.Series(qnps_answers)\n",
    "promoters = nps.apply(lambda x: 1 if x in [9, 10] else 0)\n",
    "passives = nps.apply(lambda x: 1 if x in [7, 8] else 0)\n",
    "detractors = nps.apply(lambda x: 1 if x < 7 else 0)\n",
    "print('promoters.mean() : ', promoters.mean())\n",
    "print()\n",
    "print('passives.mean() : ', passives.mean())\n",
    "print()\n",
    "print('detractors.mean() : ', detractors.mean())\n",
    "\n"
   ]
  },
  {
   "cell_type": "code",
   "execution_count": 3,
   "metadata": {},
   "outputs": [],
   "source": [
    "prom_variable = variable_factory(**{'series': promoters})\n",
    "detr_variable = variable_factory(**{'series': detractors})\n",
    "env = base_environment\n",
    "env['promoters'] = prom_variable\n",
    "env['detractors'] = detr_variable"
   ]
  },
  {
   "cell_type": "code",
   "execution_count": 4,
   "metadata": {},
   "outputs": [
    {
     "name": "stdout",
     "output_type": "stream",
     "text": [
      "λ [promoters, -, detractors]\n",
      "LIST LENGTH: 3\n",
      "λ promoters\n",
      "  [PROPORTION: 151 / 885]\n",
      "λ detractors\n",
      "  [PROPORTION: 572 / 885]\n",
      "λ -\n",
      "📊 Stat Variable Operator -\n",
      "   👷Running (-) on [PROPORTION: 151 / 885] and [PROPORTION: 572 / 885]\n",
      "         Now Expression is [[DISTRIBUTION: mean=-0.4757062146892655, var=0.5910714127355728]]\n",
      "λ [DISTRIBUTION: mean=-0.4757062146892655, var=0.5910714127355728]\n"
     ]
    },
    {
     "data": {
      "text/plain": [
       "[DISTRIBUTION: mean=-0.4757062146892655, var=0.5910714127355728]"
      ]
     },
     "execution_count": 4,
     "metadata": {},
     "output_type": "execute_result"
    }
   ],
   "source": [
    "run('''\n",
    "(promoters - detractors)\n",
    "''')"
   ]
  },
  {
   "cell_type": "markdown",
   "metadata": {},
   "source": [
    "# 🔥🔥🔥🔥🔥🔥🔥"
   ]
  },
  {
   "cell_type": "code",
   "execution_count": 5,
   "metadata": {},
   "outputs": [
    {
     "name": "stdout",
     "output_type": "stream",
     "text": [
      "λ [[[promoters, ==, detractors], *, 100], +, [17, *, [promoters, <, detractors]]]\n",
      "LIST LENGTH: 3\n",
      "λ [[promoters, ==, detractors], *, 100]\n",
      "LIST LENGTH: 3\n",
      "λ [promoters, ==, detractors]\n",
      "LIST LENGTH: 3\n",
      "λ promoters\n",
      "  [PROPORTION: 151 / 885]\n",
      "λ detractors\n",
      "  [PROPORTION: 572 / 885]\n",
      "λ ==\n",
      "📊 Stat Variable Operator ==\n",
      "   👷Running (==) on [PROPORTION: 151 / 885] and [PROPORTION: 572 / 885]\n",
      "         Now Expression is [0]\n",
      "λ 0\n",
      "λ *\n",
      "  <built-in function mul>\n",
      "   👷Running (*) on 0 and 100\n",
      "         Now Expression is [0]\n",
      "λ 0\n",
      "λ [17, *, [promoters, <, detractors]]\n",
      "LIST LENGTH: 3\n",
      "λ [promoters, <, detractors]\n",
      "LIST LENGTH: 3\n",
      "λ promoters\n",
      "  [PROPORTION: 151 / 885]\n",
      "λ detractors\n",
      "  [PROPORTION: 572 / 885]\n",
      "λ <\n",
      "📊 Stat Variable Operator <\n",
      "   👷Running (<) on [PROPORTION: 151 / 885] and [PROPORTION: 572 / 885]\n",
      "         Now Expression is [[PROBABILITY: 0.7319611736198729]]\n",
      "λ [PROBABILITY: 0.7319611736198729]\n",
      "λ *\n",
      "📊 Stat Variable Operator *\n",
      "   👷Running (*) on 17 and [PROBABILITY: 0.7319611736198729]\n",
      "         Now Expression is [12.443339951537839]\n",
      "λ 12.443339951537839\n",
      "λ +\n",
      "  <built-in function add>\n",
      "   👷Running (+) on 0 and 12.443339951537839\n",
      "         Now Expression is [12.443339951537839]\n",
      "λ 12.443339951537839\n"
     ]
    },
    {
     "data": {
      "text/plain": [
       "12.443339951537839"
      ]
     },
     "execution_count": 5,
     "metadata": {},
     "output_type": "execute_result"
    }
   ],
   "source": [
    "run('''\n",
    "(\n",
    "    (\n",
    "        (promoters == detractors) * 100\n",
    "    ) + (\n",
    "        17 * (promoters < detractors))\n",
    "    )\n",
    "''')"
   ]
  },
  {
   "cell_type": "code",
   "execution_count": 6,
   "metadata": {},
   "outputs": [
    {
     "name": "stdout",
     "output_type": "stream",
     "text": [
      "λ [promoters, >, detractors]\n",
      "LIST LENGTH: 3\n",
      "λ promoters\n",
      "  [PROPORTION: 151 / 885]\n",
      "λ detractors\n",
      "  [PROPORTION: 572 / 885]\n",
      "λ >\n",
      "📊 Stat Variable Operator >\n",
      "   👷Running (>) on [PROPORTION: 151 / 885] and [PROPORTION: 572 / 885]\n",
      "         Now Expression is [[PROBABILITY: 0.2680388263801271]]\n",
      "λ [PROBABILITY: 0.2680388263801271]\n"
     ]
    },
    {
     "data": {
      "text/plain": [
       "[PROBABILITY: 0.2680388263801271]"
      ]
     },
     "execution_count": 6,
     "metadata": {},
     "output_type": "execute_result"
    }
   ],
   "source": [
    "run('''\n",
    "(promoters > detractors)\n",
    "''')"
   ]
  },
  {
   "cell_type": "code",
   "execution_count": 8,
   "metadata": {},
   "outputs": [
    {
     "name": "stdout",
     "output_type": "stream",
     "text": [
      "λ [promoters, *, 100]\n",
      "LIST LENGTH: 3\n",
      "λ promoters\n",
      "  [PROPORTION: 151 / 885]\n",
      "λ *\n",
      "📊 Stat Variable Operator *\n",
      "   👷Running (*) on [PROPORTION: 151 / 885] and 100\n",
      "         Now Expression is [[DISTRIBUTION: mean=17.062146892655367, var=1416.6986220824704]]\n",
      "λ [DISTRIBUTION: mean=17.062146892655367, var=1416.6986220824704]\n"
     ]
    },
    {
     "data": {
      "text/plain": [
       "[DISTRIBUTION: mean=17.062146892655367, var=1416.6986220824704]"
      ]
     },
     "execution_count": 8,
     "metadata": {},
     "output_type": "execute_result"
    }
   ],
   "source": [
    "run('''\n",
    "(promoters * 100)\n",
    "''')"
   ]
  },
  {
   "cell_type": "code",
   "execution_count": 9,
   "metadata": {
    "scrolled": false
   },
   "outputs": [
    {
     "name": "stdout",
     "output_type": "stream",
     "text": [
      "λ [begin, [define, prom_percent, [promoters, *, 100]], [define, detr_percent, [detractors, *, 100]], [prom_percent, -, detr_percent]]\n",
      "LIST LENGTH: 4\n",
      "λ [define, prom_percent, [promoters, *, 100]]\n",
      "LIST LENGTH: 3\n",
      "λ [promoters, *, 100]\n",
      "LIST LENGTH: 3\n",
      "λ promoters\n",
      "  [PROPORTION: 151 / 885]\n",
      "λ *\n",
      "📊 Stat Variable Operator *\n",
      "   👷Running (*) on [PROPORTION: 151 / 885] and 100\n",
      "         Now Expression is [[DISTRIBUTION: mean=17.062146892655367, var=1416.6986220824704]]\n",
      "λ [DISTRIBUTION: mean=17.062146892655367, var=1416.6986220824704]\n",
      "λ [define, detr_percent, [detractors, *, 100]]\n",
      "LIST LENGTH: 3\n",
      "λ [detractors, *, 100]\n",
      "LIST LENGTH: 3\n",
      "λ detractors\n",
      "  [PROPORTION: 572 / 885]\n",
      "λ *\n",
      "📊 Stat Variable Operator *\n",
      "   👷Running (*) on [PROPORTION: 572 / 885] and 100\n",
      "         Now Expression is [[DISTRIBUTION: mean=64.63276836158191, var=2288.4679295446995]]\n",
      "λ [DISTRIBUTION: mean=64.63276836158191, var=2288.4679295446995]\n",
      "λ [prom_percent, -, detr_percent]\n",
      "LIST LENGTH: 3\n",
      "λ prom_percent\n",
      "  [DISTRIBUTION: mean=17.062146892655367, var=1416.6986220824704]\n",
      "λ detr_percent\n",
      "  [DISTRIBUTION: mean=64.63276836158191, var=2288.4679295446995]\n",
      "λ -\n",
      "📊 Stat Variable Operator -\n",
      "   👷Running (-) on [DISTRIBUTION: mean=17.062146892655367, var=1416.6986220824704] and [DISTRIBUTION: mean=64.63276836158191, var=2288.4679295446995]\n",
      "         Now Expression is [[DISTRIBUTION: mean=-47.57062146892655, var=5910.714127355727]]\n",
      "λ [DISTRIBUTION: mean=-47.57062146892655, var=5910.714127355727]\n"
     ]
    },
    {
     "data": {
      "text/plain": [
       "[DISTRIBUTION: mean=-47.57062146892655, var=5910.714127355727]"
      ]
     },
     "execution_count": 9,
     "metadata": {},
     "output_type": "execute_result"
    }
   ],
   "source": [
    "run('''\n",
    "(begin \n",
    "    (define prom_percent (promoters * 100))\n",
    "    (define detr_percent (detractors * 100))\n",
    "    (prom_percent - detr_percent)\n",
    ")\n",
    "''')"
   ]
  },
  {
   "cell_type": "code",
   "execution_count": null,
   "metadata": {},
   "outputs": [],
   "source": []
  },
  {
   "cell_type": "code",
   "execution_count": null,
   "metadata": {},
   "outputs": [],
   "source": []
  }
 ],
 "metadata": {
  "kernelspec": {
   "display_name": "Python 3",
   "language": "python",
   "name": "python3"
  },
  "language_info": {
   "codemirror_mode": {
    "name": "ipython",
    "version": 3
   },
   "file_extension": ".py",
   "mimetype": "text/x-python",
   "name": "python",
   "nbconvert_exporter": "python",
   "pygments_lexer": "ipython3",
   "version": "3.4.0"
  }
 },
 "nbformat": 4,
 "nbformat_minor": 2
}
