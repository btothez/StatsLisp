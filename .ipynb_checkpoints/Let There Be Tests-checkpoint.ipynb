{
 "cells": [
  {
   "cell_type": "code",
   "execution_count": 64,
   "metadata": {},
   "outputs": [],
   "source": [
    "import pandas as pd\n",
    "import numpy as np\n",
    "from lis import *\n",
    "\n",
    "def normalize(lst):\n",
    "    arr = np.array(lst)\n",
    "    return [n / arr.sum() for n in lst]\n",
    "    \n",
    "\n",
    "probs_a = [1, 1, 1, 1, 1, 1, 1, 1, 1, 1, 1]\n",
    "size_a = 885\n",
    "qnps_answers_a = np.random.choice(\n",
    "    a=[i for i in range(11)],\n",
    "    p=normalize(probs_a),\n",
    "    size=size_a)\n",
    "\n",
    "probs_b = [1, 1, 1, 1, 1, 1, 1, 1.5, 1, 1.1, 1.2]\n",
    "size_b = 229\n",
    "\n",
    "    \n",
    "qnps_answers_b = np.random.choice(\n",
    "    a=[i for i in range(11)],\n",
    "    p=normalize(probs_b),\n",
    "    size=size_b)\n"
   ]
  },
  {
   "cell_type": "code",
   "execution_count": 65,
   "metadata": {},
   "outputs": [
    {
     "name": "stdout",
     "output_type": "stream",
     "text": [
      "a stats:  0.17966101694915254 0.14754965871615924\n",
      "b stats:  0.19213973799126638 0.15590285758063283\n"
     ]
    }
   ],
   "source": [
    "nps_a = pd.Series(qnps_answers_a)\n",
    "nps_b = pd.Series(qnps_answers_b)\n",
    "\n",
    "get_promoters = lambda ser: ser.apply(lambda x: 1 if x in [9, 10] else 0)\n",
    "get_passives = lambda ser: ser.apply(lambda x: 1 if x in [7, 8] else 0)\n",
    "get_detractors = lambda ser: ser.apply(lambda x: 1 if x < 7 else 0)\n",
    "\n",
    "promoters_a = get_promoters(nps_a)\n",
    "detractors_a = get_detractors(nps_a)\n",
    "\n",
    "promoters_b = get_promoters(nps_b)\n",
    "detractors_b = get_detractors(nps_b)\n",
    "\n",
    "print('a stats: ', promoters_a.mean(), promoters_a.var())\n",
    "print('b stats: ', promoters_b.mean(), promoters_b.var())"
   ]
  },
  {
   "cell_type": "code",
   "execution_count": 66,
   "metadata": {},
   "outputs": [],
   "source": [
    "env = base_environment\n",
    "\n",
    "prom_variable_a = variable_factory(**{'series': promoters_a})\n",
    "detr_variable_a = variable_factory(**{'series': detractors_a})\n",
    "\n",
    "env['promoters_a'] = prom_variable_a\n",
    "env['detractors_a'] = detr_variable_a\n",
    "\n",
    "prom_variable_b = variable_factory(**{'series': promoters_b})\n",
    "detr_variable_b = variable_factory(**{'series': detractors_b})\n",
    "\n",
    "env['promoters_b'] = prom_variable_b\n",
    "env['detractors_b'] = detr_variable_b"
   ]
  },
  {
   "cell_type": "code",
   "execution_count": 67,
   "metadata": {},
   "outputs": [
    {
     "name": "stdout",
     "output_type": "stream",
     "text": [
      "λ [promoters_a, -, detractors_a]\n",
      "LIST LENGTH: 3\n",
      "λ promoters_a\n",
      "  [PROPORTION: 159 / 885]\n",
      "λ detractors_a\n",
      "  [PROPORTION: 581 / 885]\n",
      "λ -\n",
      "📊 Stat Variable Operator -\n",
      "   👷Running (-) on [PROPORTION: 159 / 885] and [PROPORTION: 581 / 885]\n",
      "         Now Expression is [[DISTRIBUTION: mean=-0.4768361581920904, var=0.609207293374115]]\n",
      "λ [DISTRIBUTION: mean=-0.4768361581920904, var=0.609207293374115]\n"
     ]
    },
    {
     "data": {
      "text/plain": [
       "[DISTRIBUTION: mean=-0.4768361581920904, var=0.609207293374115]"
      ]
     },
     "execution_count": 67,
     "metadata": {},
     "output_type": "execute_result"
    }
   ],
   "source": [
    "run('''\n",
    "(promoters_a - detractors_a)\n",
    "''')"
   ]
  },
  {
   "cell_type": "code",
   "execution_count": 68,
   "metadata": {},
   "outputs": [
    {
     "name": "stdout",
     "output_type": "stream",
     "text": [
      "λ [test, promoters_a, promoters_b]\n",
      "LIST LENGTH: 3\n",
      "λ promoters_a\n",
      "  [PROPORTION: 159 / 885]\n",
      "λ promoters_b\n",
      "  [PROPORTION: 44 / 229]\n",
      "λ test\n",
      "📊 Stat Variable Operator test\n",
      "🏃 Applying List Else ==> <function variable_test at 0x114c58d08> to [[PROPORTION: 159 / 885], [PROPORTION: 44 / 229]]\n"
     ]
    },
    {
     "data": {
      "text/plain": [
       "P-Value 0.33409187081130204 :: 👍 - Null Hypothesis Confirmed"
      ]
     },
     "execution_count": 68,
     "metadata": {},
     "output_type": "execute_result"
    }
   ],
   "source": [
    "run('''\n",
    "(test promoters_a promoters_b)\n",
    "''')"
   ]
  },
  {
   "cell_type": "code",
   "execution_count": 69,
   "metadata": {},
   "outputs": [
    {
     "name": "stdout",
     "output_type": "stream",
     "text": [
      "λ [test, [promoters_a, -, detractors_a], [promoters_b, -, detractors_b]]\n",
      "LIST LENGTH: 3\n",
      "λ [promoters_a, -, detractors_a]\n",
      "LIST LENGTH: 3\n",
      "λ promoters_a\n",
      "  [PROPORTION: 159 / 885]\n",
      "λ detractors_a\n",
      "  [PROPORTION: 581 / 885]\n",
      "λ -\n",
      "📊 Stat Variable Operator -\n",
      "   👷Running (-) on [PROPORTION: 159 / 885] and [PROPORTION: 581 / 885]\n",
      "         Now Expression is [[DISTRIBUTION: mean=-0.4768361581920904, var=0.609207293374115]]\n",
      "λ [DISTRIBUTION: mean=-0.4768361581920904, var=0.609207293374115]\n",
      "λ [promoters_b, -, detractors_b]\n",
      "LIST LENGTH: 3\n",
      "λ promoters_b\n",
      "  [PROPORTION: 44 / 229]\n",
      "λ detractors_b\n",
      "  [PROPORTION: 134 / 229]\n",
      "λ -\n",
      "📊 Stat Variable Operator -\n",
      "   👷Running (-) on [PROPORTION: 44 / 229] and [PROPORTION: 134 / 229]\n",
      "         Now Expression is [[DISTRIBUTION: mean=-0.39301310043668125, var=0.6245787663797278]]\n",
      "λ [DISTRIBUTION: mean=-0.39301310043668125, var=0.6245787663797278]\n",
      "λ test\n",
      "📊 Stat Variable Operator test\n",
      "🏃 Applying List Else ==> <function variable_test at 0x114c58d08> to [[DISTRIBUTION: mean=-0.4768361581920904, var=0.609207293374115], [DISTRIBUTION: mean=-0.39301310043668125, var=0.6245787663797278]]\n"
     ]
    },
    {
     "data": {
      "text/plain": [
       "P-Value 0.021264616759396452 :: 🙅 - Reject the Null"
      ]
     },
     "execution_count": 69,
     "metadata": {},
     "output_type": "execute_result"
    }
   ],
   "source": [
    "run('''\n",
    "(test (promoters_a - detractors_a)  (promoters_b - detractors_b))\n",
    "''')"
   ]
  },
  {
   "cell_type": "code",
   "execution_count": 50,
   "metadata": {},
   "outputs": [
    {
     "name": "stdout",
     "output_type": "stream",
     "text": [
      "λ [detractors_b]\n",
      "LIST LENGTH: 1\n",
      "λ detractors_b\n",
      "  [PROPORTION: 125 / 229]\n",
      "🏃 Applying List Else ==> [PROPORTION: 125 / 229] to []\n"
     ]
    }
   ],
   "source": [
    "run('''\n",
    "(test \n",
    "    (100 * (promoters_a - detractors_a))  \n",
    "    (100 * (promoters_b - detractors_b))\n",
    ")\n",
    "''')"
   ]
  },
  {
   "cell_type": "code",
   "execution_count": null,
   "metadata": {},
   "outputs": [],
   "source": []
  }
 ],
 "metadata": {
  "kernelspec": {
   "display_name": "Python 3",
   "language": "python",
   "name": "python3"
  }
 },
 "nbformat": 4,
 "nbformat_minor": 2
}
