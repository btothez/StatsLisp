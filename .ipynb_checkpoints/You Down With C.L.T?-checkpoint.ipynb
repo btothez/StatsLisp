{
 "cells": [
  {
   "cell_type": "code",
   "execution_count": 8,
   "metadata": {},
   "outputs": [],
   "source": [
    "import pandas as pd\n",
    "import numpy as np\n",
    "from lis import *\n",
    "import matplotlib.pyplot as plt\n",
    "import math\n",
    "\n",
    "def normalize(lst):\n",
    "    arr = np.array(lst)\n",
    "    return [n / arr.sum() for n in lst]\n",
    "    \n",
    "\n",
    "probs_a = [1, 2, 3, 3, 1, 1, 1, 1, 1, 4, 1]\n",
    "\n",
    "def take_sample(probs, size):\n",
    "    return pd.Series(np.random.choice(\n",
    "                a=[i for i in range(11)],\n",
    "                p=normalize(probs),\n",
    "                size=size))\n",
    "\n",
    "\n",
    "\n",
    "\n",
    "get_promoters = lambda ser: ser.apply(lambda x: 1 if x in [9, 10] else 0)\n",
    "get_passives = lambda ser: ser.apply(lambda x: 1 if x in [7, 8] else 0)\n",
    "get_detractors = lambda ser: ser.apply(lambda x: 1 if x < 7 else 0)\n",
    "\n",
    "def promoters_proportion(ser):\n",
    "    prom = get_promoters(ser)\n",
    "    return len(prom[prom == 1]) / len(ser)\n",
    "\n",
    "def detractors_proportion(ser):\n",
    "    detr = get_detractors(ser)\n",
    "    return len(detr[detr == 1]) / len (ser)\n",
    "\n",
    "\n",
    "def sample_score(ser):\n",
    "    return (100 * (promoters_proportion(ser) - detractors_proportion(ser)))\n",
    "\n",
    "def sample_standard_err(ser):\n",
    "    n = len(ser)\n",
    "    coef = 100 / (n * (n - 1))\n",
    "    prom = get_promoters(ser)\n",
    "    detr = get_detractors(ser)\n",
    "    xprom = len(prom[prom==1])\n",
    "    xdetr = len(detr[detr==1])\n",
    "    return coef * math.sqrt(xprom + xdetr - ((xprom - xdetr)**2 / n ))"
   ]
  },
  {
   "cell_type": "code",
   "execution_count": 67,
   "metadata": {},
   "outputs": [
    {
     "name": "stdout",
     "output_type": "stream",
     "text": [
      "-34.4 0.0078010449160301944\n"
     ]
    }
   ],
   "source": [
    "sample = take_sample(probs_a, 500)\n",
    "print(sample_score(sample), sample_standard_err(sample))\n",
    "\n",
    "\n",
    "samples = [\n",
    "    sample_score(take_sample(probs_a, 500))\n",
    "    for x in \n",
    "    range(10000)\n",
    "]"
   ]
  },
  {
   "cell_type": "code",
   "execution_count": 68,
   "metadata": {},
   "outputs": [
    {
     "data": {
      "text/plain": [
       "(array([  1.,   1.,   0.,   6.,   4.,  12.,  13.,  24.,  27.,  44.,  68.,\n",
       "        106., 119., 167., 229., 255., 210., 348., 385., 428., 506., 540.,\n",
       "        594., 651., 397., 592., 587., 550., 511., 466., 397., 360., 310.,\n",
       "        180., 209., 196., 151.,  95.,  71.,  66.,  42.,  20.,  19.,  15.,\n",
       "          8.,  12.,   2.,   4.,   0.,   2.]),\n",
       " array([-51.   , -50.424, -49.848, -49.272, -48.696, -48.12 , -47.544,\n",
       "        -46.968, -46.392, -45.816, -45.24 , -44.664, -44.088, -43.512,\n",
       "        -42.936, -42.36 , -41.784, -41.208, -40.632, -40.056, -39.48 ,\n",
       "        -38.904, -38.328, -37.752, -37.176, -36.6  , -36.024, -35.448,\n",
       "        -34.872, -34.296, -33.72 , -33.144, -32.568, -31.992, -31.416,\n",
       "        -30.84 , -30.264, -29.688, -29.112, -28.536, -27.96 , -27.384,\n",
       "        -26.808, -26.232, -25.656, -25.08 , -24.504, -23.928, -23.352,\n",
       "        -22.776, -22.2  ]),\n",
       " <a list of 50 Patch objects>)"
      ]
     },
     "execution_count": 68,
     "metadata": {},
     "output_type": "execute_result"
    },
    {
     "data": {
      "image/png": "[encoded data removed]",
      "text/plain": [
       "<Figure size 432x288 with 1 Axes>"
      ]
     },
     "metadata": {},
     "output_type": "display_data"
    }
   ],
   "source": [
    "plt.hist(samples, bins=50)"
   ]
  },
  {
   "cell_type": "code",
   "execution_count": 69,
   "metadata": {},
   "outputs": [
    {
     "name": "stdout",
     "output_type": "stream",
     "text": [
      "-36.7851800000001 3.9302265883411334\n"
     ]
    }
   ],
   "source": [
    "mean = sum(samples) / len(samples)\n",
    "std_dev = pd.Series(samples).std()\n",
    "print(mean, std_dev)"
   ]
  },
  {
   "cell_type": "code",
   "execution_count": 71,
   "metadata": {},
   "outputs": [
    {
     "data": {
      "text/plain": [
       "0.9502"
      ]
     },
     "execution_count": 71,
     "metadata": {},
     "output_type": "execute_result"
    }
   ],
   "source": [
    "z_alpha_half = stats.norm.ppf(.975)\n",
    "top_confidence = mean + (z_alpha_half * std_dev)\n",
    "bottom_confidence = mean - (z_alpha_half * std_dev)\n",
    "filtered = [x for x in samples if x < top_confidence and x > bottom_confidence]\n",
    "len(filtered) / len(samples)"
   ]
  },
  {
   "cell_type": "markdown",
   "metadata": {},
   "source": [
    "### That's a good proof of normality, but if we had to estimate that std dev from the sample itself..."
   ]
  },
  {
   "cell_type": "code",
   "execution_count": 88,
   "metadata": {},
   "outputs": [
    {
     "name": "stdout",
     "output_type": "stream",
     "text": [
      "actual std dev of distribution 3.9302265883411334\n",
      "my estimated std err 3.8602854307958148\n"
     ]
    }
   ],
   "source": [
    "print('actual std dev of distribution', std_dev)\n",
    "\n",
    "#std_err_nps = \n",
    "sample = take_sample(probs_a, 500)\n",
    "prom = get_promoters(sample)\n",
    "detr = get_detractors(sample)\n",
    "x_prom = len(prom[prom == 1])\n",
    "x_detr = len(detr[detr == 1])\n",
    "n = len(sample)\n",
    "coef = 100 / math.sqrt(n * (n - 1))\n",
    "std_err = coef * math.sqrt(x_prom + x_detr - ((x_prom - x_detr)**2 / n))\n",
    "print('my estimated std err', std_err)"
   ]
  },
  {
   "cell_type": "markdown",
   "metadata": {},
   "source": [
    "# The goal here is to prove the CLT for NPS\n",
    "\n",
    "Can we show that if you sample enough times, that the nps score is normally distributed?"
   ]
  },
  {
   "cell_type": "code",
   "execution_count": 2,
   "metadata": {},
   "outputs": [
    {
     "name": "stdout",
     "output_type": "stream",
     "text": [
      "REAL NPS : -44.812066076131195\n",
      "\n",
      "sample 0: -30.0\n",
      "sample 1: -49.99999999999999\n",
      "sample 2: -30.0\n",
      "sample 3: -70.0\n",
      "sample 4: -50.0\n",
      "sample 5: -9.999999999999998\n",
      "sample 6: -40.0\n",
      "sample 7: -60.0\n",
      "sample 8: -20.0\n",
      "sample 9: -70.0\n"
     ]
    }
   ],
   "source": [
    "nps_a = pd.Series(qnps_answers_a)\n",
    "\n",
    "promoters_a = get_promoters(nps_a)\n",
    "detractors_a = get_detractors(nps_a)\n",
    "\n",
    "print('a stats: ', promoters_a.mean(), promoters_a.var())\n",
    "\n",
    "def get_nps(arr):\n",
    "    return 100 * (get_promoters(arr).mean() - get_detractors(arr).mean())\n",
    "\n",
    "\n",
    "print('REAL NPS : {}'.format(get_nps(nps_a)))\n",
    "\n",
    "print()\n",
    "for i in range(10):\n",
    "    print('sample {}: {}'.format(i, get_nps(pd.Series(np.random.choice(a=nps_a, size=10)))))\n"
   ]
  },
  {
   "cell_type": "code",
   "execution_count": 88,
   "metadata": {},
   "outputs": [
    {
     "data": {
      "text/plain": [
       "(array([1.000e+00, 5.000e+00, 0.000e+00, 1.600e+01, 2.800e+01, 0.000e+00,\n",
       "        6.700e+01, 1.130e+02, 0.000e+00, 1.880e+02, 2.990e+02, 0.000e+00,\n",
       "        4.110e+02, 0.000e+00, 5.560e+02, 7.520e+02, 0.000e+00, 8.670e+02,\n",
       "        9.100e+02, 0.000e+00, 8.880e+02, 1.007e+03, 0.000e+00, 8.840e+02,\n",
       "        0.000e+00, 7.230e+02, 6.030e+02, 0.000e+00, 5.200e+02, 3.560e+02,\n",
       "        0.000e+00, 2.900e+02, 1.930e+02, 0.000e+00, 1.230e+02, 8.800e+01,\n",
       "        0.000e+00, 5.800e+01, 0.000e+00, 2.300e+01, 1.500e+01, 0.000e+00,\n",
       "        5.000e+00, 2.000e+00, 0.000e+00, 6.000e+00, 0.000e+00, 0.000e+00,\n",
       "        2.000e+00, 1.000e+00]),\n",
       " array([-92.85714286, -90.57142857, -88.28571429, -86.        ,\n",
       "        -83.71428571, -81.42857143, -79.14285714, -76.85714286,\n",
       "        -74.57142857, -72.28571429, -70.        , -67.71428571,\n",
       "        -65.42857143, -63.14285714, -60.85714286, -58.57142857,\n",
       "        -56.28571429, -54.        , -51.71428571, -49.42857143,\n",
       "        -47.14285714, -44.85714286, -42.57142857, -40.28571429,\n",
       "        -38.        , -35.71428571, -33.42857143, -31.14285714,\n",
       "        -28.85714286, -26.57142857, -24.28571429, -22.        ,\n",
       "        -19.71428571, -17.42857143, -15.14285714, -12.85714286,\n",
       "        -10.57142857,  -8.28571429,  -6.        ,  -3.71428571,\n",
       "         -1.42857143,   0.85714286,   3.14285714,   5.42857143,\n",
       "          7.71428571,  10.        ,  12.28571429,  14.57142857,\n",
       "         16.85714286,  19.14285714,  21.42857143]),\n",
       " <a list of 50 Patch objects>)"
      ]
     },
     "execution_count": 88,
     "metadata": {},
     "output_type": "execute_result"
    },
    {
     "data": {
      "image/png": "[encoded data removed]",
      "text/plain": [
       "<Figure size 432x288 with 1 Axes>"
      ]
     },
     "metadata": {},
     "output_type": "display_data"
    }
   ],
   "source": [
    "def sample():\n",
    "    return get_nps(pd.Series(np.random.choice(a=nps_a, size=28)))\n",
    "\n",
    "samples = [\n",
    "    sample()\n",
    "    for x in range(10000)\n",
    "]\n",
    "\n",
    "plt.hist(samples, bins=50)"
   ]
  },
  {
   "cell_type": "markdown",
   "metadata": {},
   "source": [
    "## Now that looks like a bell curve which is nice and all, but the real goal is to make it a normal distribution, so\n",
    "\n",
    "$$ NPS \\sim \\mathcal{N}(\\mu, \\, \\frac{\\sigma}{\\sqrt{N}}) $$\n"
   ]
  },
  {
   "cell_type": "code",
   "execution_count": 89,
   "metadata": {},
   "outputs": [
    {
     "name": "stdout",
     "output_type": "stream",
     "text": [
      "Remember, mu=-44.812066076131195\n"
     ]
    },
    {
     "data": {
      "text/plain": [
       "(array([1.000e+00, 0.000e+00, 0.000e+00, 5.000e+00, 0.000e+00, 0.000e+00,\n",
       "        1.600e+01, 0.000e+00, 0.000e+00, 2.800e+01, 0.000e+00, 0.000e+00,\n",
       "        6.700e+01, 0.000e+00, 0.000e+00, 1.130e+02, 0.000e+00, 0.000e+00,\n",
       "        1.880e+02, 0.000e+00, 0.000e+00, 2.990e+02, 0.000e+00, 0.000e+00,\n",
       "        0.000e+00, 4.110e+02, 0.000e+00, 0.000e+00, 5.560e+02, 0.000e+00,\n",
       "        0.000e+00, 7.520e+02, 0.000e+00, 0.000e+00, 8.670e+02, 0.000e+00,\n",
       "        0.000e+00, 9.100e+02, 0.000e+00, 0.000e+00, 8.880e+02, 0.000e+00,\n",
       "        0.000e+00, 1.007e+03, 0.000e+00, 0.000e+00, 8.840e+02, 0.000e+00,\n",
       "        0.000e+00, 0.000e+00, 7.230e+02, 0.000e+00, 0.000e+00, 6.030e+02,\n",
       "        0.000e+00, 0.000e+00, 5.200e+02, 0.000e+00, 0.000e+00, 3.560e+02,\n",
       "        0.000e+00, 0.000e+00, 2.900e+02, 0.000e+00, 0.000e+00, 1.930e+02,\n",
       "        0.000e+00, 0.000e+00, 1.230e+02, 0.000e+00, 0.000e+00, 8.800e+01,\n",
       "        0.000e+00, 0.000e+00, 0.000e+00, 5.800e+01, 0.000e+00, 0.000e+00,\n",
       "        2.300e+01, 0.000e+00, 0.000e+00, 1.500e+01, 0.000e+00, 0.000e+00,\n",
       "        5.000e+00, 0.000e+00, 0.000e+00, 2.000e+00, 0.000e+00, 0.000e+00,\n",
       "        6.000e+00, 0.000e+00, 0.000e+00, 0.000e+00, 0.000e+00, 0.000e+00,\n",
       "        2.000e+00, 0.000e+00, 0.000e+00, 1.000e+00]),\n",
       " array([-4.80450768e+01, -4.69022196e+01, -4.57593625e+01, -4.46165054e+01,\n",
       "        -4.34736482e+01, -4.23307911e+01, -4.11879339e+01, -4.00450768e+01,\n",
       "        -3.89022196e+01, -3.77593625e+01, -3.66165054e+01, -3.54736482e+01,\n",
       "        -3.43307911e+01, -3.31879339e+01, -3.20450768e+01, -3.09022196e+01,\n",
       "        -2.97593625e+01, -2.86165054e+01, -2.74736482e+01, -2.63307911e+01,\n",
       "        -2.51879339e+01, -2.40450768e+01, -2.29022196e+01, -2.17593625e+01,\n",
       "        -2.06165054e+01, -1.94736482e+01, -1.83307911e+01, -1.71879339e+01,\n",
       "        -1.60450768e+01, -1.49022196e+01, -1.37593625e+01, -1.26165054e+01,\n",
       "        -1.14736482e+01, -1.03307911e+01, -9.18793392e+00, -8.04507678e+00,\n",
       "        -6.90221964e+00, -5.75936250e+00, -4.61650535e+00, -3.47364821e+00,\n",
       "        -2.33079107e+00, -1.18793392e+00, -4.50767810e-02,  1.09778036e+00,\n",
       "         2.24063750e+00,  3.38349465e+00,  4.52635179e+00,  5.66920893e+00,\n",
       "         6.81206608e+00,  7.95492322e+00,  9.09778036e+00,  1.02406375e+01,\n",
       "         1.13834946e+01,  1.25263518e+01,  1.36692089e+01,  1.48120661e+01,\n",
       "         1.59549232e+01,  1.70977804e+01,  1.82406375e+01,  1.93834946e+01,\n",
       "         2.05263518e+01,  2.16692089e+01,  2.28120661e+01,  2.39549232e+01,\n",
       "         2.50977804e+01,  2.62406375e+01,  2.73834946e+01,  2.85263518e+01,\n",
       "         2.96692089e+01,  3.08120661e+01,  3.19549232e+01,  3.30977804e+01,\n",
       "         3.42406375e+01,  3.53834946e+01,  3.65263518e+01,  3.76692089e+01,\n",
       "         3.88120661e+01,  3.99549232e+01,  4.10977804e+01,  4.22406375e+01,\n",
       "         4.33834946e+01,  4.45263518e+01,  4.56692089e+01,  4.68120661e+01,\n",
       "         4.79549232e+01,  4.90977804e+01,  5.02406375e+01,  5.13834946e+01,\n",
       "         5.25263518e+01,  5.36692089e+01,  5.48120661e+01,  5.59549232e+01,\n",
       "         5.70977804e+01,  5.82406375e+01,  5.93834946e+01,  6.05263518e+01,\n",
       "         6.16692089e+01,  6.28120661e+01,  6.39549232e+01,  6.50977804e+01,\n",
       "         6.62406375e+01]),\n",
       " <a list of 100 Patch objects>)"
      ]
     },
     "execution_count": 89,
     "metadata": {},
     "output_type": "execute_result"
    },
    {
     "data": {
      "image/png": "[encoded data removed]",
      "text/plain": [
       "<Figure size 432x288 with 1 Axes>"
      ]
     },
     "metadata": {},
     "output_type": "display_data"
    }
   ],
   "source": [
    "real_nps = get_nps(nps_a)\n",
    "print('Remember, mu={}'.format(real_nps))\n",
    "\n",
    "plt.hist([(x - real_nps) for x in samples], bins=100)"
   ]
  },
  {
   "cell_type": "markdown",
   "metadata": {},
   "source": [
    "### Phew, at least that's centered around 0, but what about the weird standard error, \n",
    "We need to get the actual z  distribution, subtract real_nps, and divide by \n",
    "\n",
    "$$ \\frac{\\sigma}{\\sqrt{N}} $$\n",
    "\n",
    "Which is...\n",
    "\n",
    "$$ \\sqrt {\\frac{Variance(NPS)} {N}} $$"
   ]
  },
  {
   "cell_type": "code",
   "execution_count": 90,
   "metadata": {},
   "outputs": [
    {
     "data": {
      "text/plain": [
       "4.725377684924763"
      ]
     },
     "execution_count": 90,
     "metadata": {},
     "output_type": "execute_result"
    }
   ],
   "source": [
    "import math\n",
    "\n",
    "n = 10\n",
    "variance_nps = sum([(x - real_nps)**2 for x in samples]) / len(samples)\n",
    "variance_nps\n",
    "std_err = math.sqrt(variance_nps / 10)\n",
    "std_err"
   ]
  },
  {
   "cell_type": "code",
   "execution_count": 91,
   "metadata": {},
   "outputs": [
    {
     "data": {
      "text/plain": [
       "(array([1.000e+00, 5.000e+00, 0.000e+00, 1.600e+01, 2.800e+01, 0.000e+00,\n",
       "        6.700e+01, 1.130e+02, 0.000e+00, 1.880e+02, 2.990e+02, 0.000e+00,\n",
       "        4.110e+02, 0.000e+00, 5.560e+02, 7.520e+02, 0.000e+00, 8.670e+02,\n",
       "        9.100e+02, 0.000e+00, 8.880e+02, 1.007e+03, 0.000e+00, 8.840e+02,\n",
       "        6.300e+01, 6.600e+02, 6.030e+02, 0.000e+00, 5.200e+02, 3.560e+02,\n",
       "        0.000e+00, 2.900e+02, 1.930e+02, 0.000e+00, 1.230e+02, 8.800e+01,\n",
       "        0.000e+00, 5.800e+01, 0.000e+00, 2.300e+01, 1.500e+01, 0.000e+00,\n",
       "        5.000e+00, 2.000e+00, 0.000e+00, 6.000e+00, 0.000e+00, 0.000e+00,\n",
       "        2.000e+00, 1.000e+00]),\n",
       " array([-1.01674575e+01, -9.68374711e+00, -9.20003672e+00, -8.71632633e+00,\n",
       "        -8.23261594e+00, -7.74890555e+00, -7.26519516e+00, -6.78148477e+00,\n",
       "        -6.29777437e+00, -5.81406398e+00, -5.33035359e+00, -4.84664320e+00,\n",
       "        -4.36293281e+00, -3.87922242e+00, -3.39551203e+00, -2.91180164e+00,\n",
       "        -2.42809125e+00, -1.94438086e+00, -1.46067047e+00, -9.76960078e-01,\n",
       "        -4.93249688e-01, -9.53929697e-03,  4.74171094e-01,  9.57881484e-01,\n",
       "         1.44159187e+00,  1.92530227e+00,  2.40901266e+00,  2.89272305e+00,\n",
       "         3.37643344e+00,  3.86014383e+00,  4.34385422e+00,  4.82756461e+00,\n",
       "         5.31127500e+00,  5.79498539e+00,  6.27869578e+00,  6.76240617e+00,\n",
       "         7.24611656e+00,  7.72982695e+00,  8.21353734e+00,  8.69724773e+00,\n",
       "         9.18095812e+00,  9.66466852e+00,  1.01483789e+01,  1.06320893e+01,\n",
       "         1.11157997e+01,  1.15995101e+01,  1.20832205e+01,  1.25669309e+01,\n",
       "         1.30506412e+01,  1.35343516e+01,  1.40180620e+01]),\n",
       " <a list of 50 Patch objects>)"
      ]
     },
     "execution_count": 91,
     "metadata": {},
     "output_type": "execute_result"
    },
    {
     "data": {
      "image/png": "[encoded data removed]",
      "text/plain": [
       "<Figure size 432x288 with 1 Axes>"
      ]
     },
     "metadata": {},
     "output_type": "display_data"
    }
   ],
   "source": [
    "normal_samples = [((x - real_nps) / std_err) for x in samples]\n",
    "\n",
    "plt.hist(normal_samples, bins=50)"
   ]
  },
  {
   "cell_type": "markdown",
   "metadata": {},
   "source": [
    "### Seems pretty Normally, distributed, but let's find:\n",
    "\n",
    "$$ Z_\\frac{{\\alpha}}{2}$$\n",
    "\n",
    "And make sure that 95% of stuff is less than it"
   ]
  },
  {
   "cell_type": "code",
   "execution_count": 92,
   "metadata": {},
   "outputs": [
    {
     "data": {
      "text/plain": [
       "9.261570083173128"
      ]
     },
     "execution_count": 92,
     "metadata": {},
     "output_type": "execute_result"
    }
   ],
   "source": [
    "z_alpha_half = 1.9599639861\n",
    "confidence = z_alpha_half * std_err\n",
    "confidence"
   ]
  },
  {
   "cell_type": "code",
   "execution_count": 94,
   "metadata": {},
   "outputs": [],
   "source": [
    "centered_samps = [(x - real_nps) for x in samples]\n",
    "filtered = [x for x in centered_samps if x < (real_nps + confidence) and x > (real_nps - confidence) ]"
   ]
  },
  {
   "cell_type": "code",
   "execution_count": 95,
   "metadata": {},
   "outputs": [
    {
     "data": {
      "text/plain": [
       "0.005"
      ]
     },
     "execution_count": 95,
     "metadata": {},
     "output_type": "execute_result"
    }
   ],
   "source": [
    "len(filtered) / len(samples)"
   ]
  },
  {
   "cell_type": "markdown",
   "metadata": {},
   "source": [
    "### No, dummy, I need to divide it by the standard error: \n",
    "\n",
    "$$ Standard Error (\\sigma_{m}) = \\frac{\\sigma}{\\sqrt{N}}$$\n",
    "which is the standard deviation over the square root of N, the standard deviation is the square root of the variance and that comes from the cool NPS variance formula\n",
    "\n",
    "$$ \\sigma = \\sqrt{Variance(NPS)} $$\n",
    "\n",
    "\n",
    "$$ Variance(NPS) = Var(Promoters) + Var(Detractors) + 2 * Covar(P, D)  $$"
   ]
  },
  {
   "cell_type": "code",
   "execution_count": 100,
   "metadata": {},
   "outputs": [
    {
     "name": "stdout",
     "output_type": "stream",
     "text": [
      "2290.870282678793 47.86303670557054 9.045263722521135\n"
     ]
    }
   ],
   "source": [
    "# So let's get the sqrt of the real_nps's variance \n",
    "\n",
    "p_det = len(detractors_a[detractors_a==1]) / len(detractors_a)\n",
    "p_prom  = len(promoters_a[promoters_a==1]) / len(promoters_a)\n",
    "passives_a = get_passives(nps_a)\n",
    "p_pass = len(passives_a[passives_a==1]) / len(passives_a)\n",
    "#variance_nps = (p_prom * (1 - p_prom)) + (p_det * (1 - p_det)) + (2 * p_prom * p_det)\n",
    "variance_nps = ((100 - real_nps) * p_prom)**2 + ((0 - real_nps)**2 * p_pass) + ((-100 - real_nps) * p_det)**2\n",
    "std_err = math.sqrt(variance_nps / 28)\n",
    "\n",
    "print(variance_nps, math.sqrt(variance_nps), std_err)"
   ]
  },
  {
   "cell_type": "code",
   "execution_count": 101,
   "metadata": {},
   "outputs": [
    {
     "data": {
      "text/plain": [
       "(array([1.000e+00, 5.000e+00, 0.000e+00, 1.600e+01, 2.800e+01, 0.000e+00,\n",
       "        6.700e+01, 1.130e+02, 0.000e+00, 1.880e+02, 2.990e+02, 0.000e+00,\n",
       "        4.110e+02, 0.000e+00, 5.560e+02, 7.520e+02, 0.000e+00, 8.670e+02,\n",
       "        9.100e+02, 0.000e+00, 8.880e+02, 1.007e+03, 0.000e+00, 8.840e+02,\n",
       "        1.150e+02, 6.080e+02, 6.030e+02, 0.000e+00, 5.200e+02, 3.560e+02,\n",
       "        0.000e+00, 2.900e+02, 1.930e+02, 0.000e+00, 1.230e+02, 8.800e+01,\n",
       "        0.000e+00, 5.800e+01, 0.000e+00, 2.300e+01, 1.500e+01, 0.000e+00,\n",
       "        5.000e+00, 2.000e+00, 0.000e+00, 6.000e+00, 0.000e+00, 0.000e+00,\n",
       "        2.000e+00, 1.000e+00]),\n",
       " array([-5.31162808e+00, -5.05893072e+00, -4.80623336e+00, -4.55353599e+00,\n",
       "        -4.30083863e+00, -4.04814127e+00, -3.79544391e+00, -3.54274654e+00,\n",
       "        -3.29004918e+00, -3.03735182e+00, -2.78465446e+00, -2.53195709e+00,\n",
       "        -2.27925973e+00, -2.02656237e+00, -1.77386501e+00, -1.52116764e+00,\n",
       "        -1.26847028e+00, -1.01577292e+00, -7.63075555e-01, -5.10378193e-01,\n",
       "        -2.57680830e-01, -4.98346786e-03,  2.47713895e-01,  5.00411257e-01,\n",
       "         7.53108620e-01,  1.00580598e+00,  1.25850334e+00,  1.51120071e+00,\n",
       "         1.76389807e+00,  2.01659543e+00,  2.26929279e+00,  2.52199016e+00,\n",
       "         2.77468752e+00,  3.02738488e+00,  3.28008224e+00,  3.53277961e+00,\n",
       "         3.78547697e+00,  4.03817433e+00,  4.29087169e+00,  4.54356906e+00,\n",
       "         4.79626642e+00,  5.04896378e+00,  5.30166114e+00,  5.55435851e+00,\n",
       "         5.80705587e+00,  6.05975323e+00,  6.31245059e+00,  6.56514796e+00,\n",
       "         6.81784532e+00,  7.07054268e+00,  7.32324004e+00]),\n",
       " <a list of 50 Patch objects>)"
      ]
     },
     "execution_count": 101,
     "metadata": {},
     "output_type": "execute_result"
    },
    {
     "data": {
      "image/png": "[encoded data removed]",
      "text/plain": [
       "<Figure size 432x288 with 1 Axes>"
      ]
     },
     "metadata": {},
     "output_type": "display_data"
    }
   ],
   "source": [
    "normal_samples = [((x - real_nps) / std_err) for x in samples]\n",
    "plt.hist(normal_samples, bins=50)"
   ]
  },
  {
   "cell_type": "code",
   "execution_count": 102,
   "metadata": {},
   "outputs": [
    {
     "name": "stdout",
     "output_type": "stream",
     "text": [
      "confidence :  17.728391140918248\n"
     ]
    },
    {
     "data": {
      "text/plain": [
       "0.771"
      ]
     },
     "execution_count": 102,
     "metadata": {},
     "output_type": "execute_result"
    }
   ],
   "source": [
    "z_alpha_half = 1.9599639861\n",
    "confidence = z_alpha_half * std_err\n",
    "top = real_nps + confidence\n",
    "bottom = real_nps - confidence\n",
    "print('confidence : ', confidence)\n",
    "\n",
    "filtered = [x for x in samples if x < top and x > bottom ]\n",
    "len(filtered) / len(samples)"
   ]
  },
  {
   "cell_type": "code",
   "execution_count": 103,
   "metadata": {},
   "outputs": [
    {
     "data": {
      "text/plain": [
       "0.8318"
      ]
     },
     "execution_count": 103,
     "metadata": {},
     "output_type": "execute_result"
    }
   ],
   "source": [
    "z_alpha_half = stats.norm.ppf(.95)\n",
    "conf_one_side = real_nps + (z_alpha_half * std_err)\n",
    "filtered = [x for x in samples if x < conf_one_side]\n",
    "len(filtered) / len(samples)\n"
   ]
  },
  {
   "cell_type": "code",
   "execution_count": null,
   "metadata": {},
   "outputs": [],
   "source": []
  }
 ],
 "metadata": {
  "kernelspec": {
   "display_name": "Python 3",
   "language": "python",
   "name": "python3"
  },
  "language_info": {
   "codemirror_mode": {
    "name": "ipython",
    "version": 3
   },
   "file_extension": ".py",
   "mimetype": "text/x-python",
   "name": "python",
   "nbconvert_exporter": "python",
   "pygments_lexer": "ipython3",
   "version": "3.4.0"
  }
 },
 "nbformat": 4,
 "nbformat_minor": 2
}
