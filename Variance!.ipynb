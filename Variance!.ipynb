{
 "cells": [
  {
   "cell_type": "code",
   "execution_count": 1,
   "metadata": {},
   "outputs": [],
   "source": [
    "import pandas as pd\n",
    "import numpy as np\n",
    "import matplotlib\n",
    "import matplotlib.pyplot as plt\n",
    "import scipy.stats as stats\n",
    "\n",
    "from lis import *\n"
   ]
  },
  {
   "cell_type": "code",
   "execution_count": 2,
   "metadata": {},
   "outputs": [
    {
     "name": "stdout",
     "output_type": "stream",
     "text": [
      "promoters.describe()\n",
      "count    885.000000\n",
      "mean       0.162712\n",
      "std        0.369311\n",
      "min        0.000000\n",
      "25%        0.000000\n",
      "50%        0.000000\n",
      "75%        0.000000\n",
      "max        1.000000\n",
      "dtype: float64\n",
      "\n",
      "passives.describe()\n",
      "count    885.000000\n",
      "mean       0.172881\n",
      "std        0.378358\n",
      "min        0.000000\n",
      "25%        0.000000\n",
      "50%        0.000000\n",
      "75%        0.000000\n",
      "max        1.000000\n",
      "dtype: float64\n",
      "\n",
      "count    885.000000\n",
      "mean       0.664407\n",
      "std        0.472464\n",
      "min        0.000000\n",
      "25%        0.000000\n",
      "50%        1.000000\n",
      "75%        1.000000\n",
      "max        1.000000\n",
      "dtype: float64\n",
      "detractors.describe()\n"
     ]
    }
   ],
   "source": [
    "qnps_answers = np.random.choice(\n",
    "    a=[i for i in range(11)],\n",
    "    p=[(1/11) for i in range(11)],\n",
    "    size=885)\n",
    "\n",
    "\n",
    "\n",
    "nps = pd.Series(qnps_answers)\n",
    "promoters = nps.apply(lambda x: 1 if x in [9, 10] else 0)\n",
    "passives = nps.apply(lambda x: 1 if x in [7, 8] else 0)\n",
    "detractors = nps.apply(lambda x: 1 if x < 7 else 0)\n",
    "print('promoters.describe()')\n",
    "print(promoters.describe())\n",
    "print()\n",
    "print('passives.describe()')\n",
    "print(passives.describe())\n",
    "print()\n",
    "print(detractors.describe())\n",
    "print('detractors.describe()')\n",
    "\n"
   ]
  },
  {
   "cell_type": "markdown",
   "metadata": {},
   "source": [
    "### Promoters:\n",
    "    * variance\n",
    "    * mean\n",
    "    * numerator \n",
    "    * denominator"
   ]
  },
  {
   "cell_type": "code",
   "execution_count": 3,
   "metadata": {},
   "outputs": [
    {
     "name": "stdout",
     "output_type": "stream",
     "text": [
      "promoters variance 0.13639082751744763\n",
      "promoters mean 0.16271186440677965\n",
      "promoters numerator 144\n",
      "promoters denominator 885\n"
     ]
    }
   ],
   "source": [
    "print('promoters variance', promoters.var())\n",
    "print('promoters mean', promoters.mean())\n",
    "print('promoters numerator', promoters[promoters == 1].count())\n",
    "print('promoters denominator', promoters.count())"
   ]
  },
  {
   "cell_type": "markdown",
   "metadata": {},
   "source": [
    "### Starting easy, I want to find the variance of (promoters * 15)\n",
    "    * The variance of the array of 0's and 1's is 0.18\n",
    "    * The actual variance is:\n",
    "$$ \\frac{p(1-p)}{n} $$"
   ]
  },
  {
   "cell_type": "code",
   "execution_count": 4,
   "metadata": {},
   "outputs": [
    {
     "data": {
      "text/plain": [
       "{'numerator': 885, 'good': True, 'mean': 144.0, 'denominator': 885, 'proportion': 1.0}"
      ]
     },
     "execution_count": 4,
     "metadata": {},
     "output_type": "execute_result"
    }
   ],
   "source": [
    "Variable(promoters)"
   ]
  },
  {
   "cell_type": "code",
   "execution_count": 5,
   "metadata": {},
   "outputs": [],
   "source": [
    "env = add_series('promoters', promoters, base_environment)\n"
   ]
  },
  {
   "cell_type": "code",
   "execution_count": 6,
   "metadata": {},
   "outputs": [
    {
     "data": {
      "text/plain": [
       "{'!=': <function _operator.ne>,\n",
       " '*': <function _operator.mul>,\n",
       " '+': <function _operator.add>,\n",
       " '-': <function _operator.sub>,\n",
       " '/': <function _operator.truediv>,\n",
       " '<': <function _operator.lt>,\n",
       " '<=': <function _operator.le>,\n",
       " '=': <function _operator.eq>,\n",
       " '>': <function _operator.gt>,\n",
       " '>=': <function _operator.ge>,\n",
       " 'nil': None,\n",
       " 'print': <function lis.<lambda>>,\n",
       " 'promoters': {'numerator': 885, 'good': True, 'mean': 144.0, 'denominator': 885, 'proportion': 1.0}}"
      ]
     },
     "execution_count": 6,
     "metadata": {},
     "output_type": "execute_result"
    }
   ],
   "source": [
    "env"
   ]
  },
  {
   "cell_type": "code",
   "execution_count": 7,
   "metadata": {},
   "outputs": [
    {
     "name": "stderr",
     "output_type": "stream",
     "text": [
      "ERROR:root:An unexpected error occurred while tokenizing input\n",
      "The following traceback may be corrupted or invalid\n",
      "The error message is: ('EOF in multi-line string', (1, 0))\n",
      "\n"
     ]
    },
    {
     "name": "stdout",
     "output_type": "stream",
     "text": [
      "IN EVAL: GOT EXPR [promoters, *, 5]\n",
      "LIST LENGTH: 3\n",
      "We got a case of the infixes!\n",
      "IN EVAL: GOT EXPR *\n",
      "  Got a symbol <built-in function mul>\n",
      "IN EVAL: GOT EXPR promoters\n",
      "  Got a symbol {'numerator': 885, 'good': True, 'mean': 144.0, 'denominator': 885, 'proportion': 1.0}\n",
      "    Running * on {'numerator': 885, 'good': True, 'mean': 144.0, 'denominator': 885, 'proportion': 1.0} and 5\n"
     ]
    },
    {
     "ename": "TypeError",
     "evalue": "unsupported operand type(s) for *: 'Variable' and 'int'",
     "output_type": "error",
     "traceback": [
      "\u001b[0;31m---------------------------------------------------------------------------\u001b[0m",
      "\u001b[0;31mTypeError\u001b[0m                                 Traceback (most recent call last)",
      "\u001b[0;32m<ipython-input-7-9e25ed6d76c2>\u001b[0m in \u001b[0;36m<module>\u001b[0;34m()\u001b[0m\n\u001b[1;32m      1\u001b[0m run('''\n\u001b[1;32m      2\u001b[0m \u001b[0;34m(\u001b[0m\u001b[0mpromoters\u001b[0m \u001b[0;34m*\u001b[0m \u001b[0;36m5\u001b[0m\u001b[0;34m)\u001b[0m\u001b[0;34m\u001b[0m\u001b[0m\n\u001b[0;32m----> 3\u001b[0;31m ''', env)\n\u001b[0m",
      "\u001b[0;32m~/Work/lispy/myown/lis.py\u001b[0m in \u001b[0;36mrun\u001b[0;34m(str, env)\u001b[0m\n\u001b[1;32m    347\u001b[0m \u001b[0;34m\u001b[0m\u001b[0m\n\u001b[1;32m    348\u001b[0m \u001b[0;32mdef\u001b[0m \u001b[0mrun\u001b[0m\u001b[0;34m(\u001b[0m\u001b[0mstr\u001b[0m\u001b[0;34m,\u001b[0m \u001b[0menv\u001b[0m\u001b[0;34m=\u001b[0m\u001b[0mbase_environment\u001b[0m\u001b[0;34m)\u001b[0m\u001b[0;34m:\u001b[0m\u001b[0;34m\u001b[0m\u001b[0m\n\u001b[0;32m--> 349\u001b[0;31m     \u001b[0;32mreturn\u001b[0m \u001b[0meval\u001b[0m\u001b[0;34m(\u001b[0m\u001b[0mparse\u001b[0m\u001b[0;34m(\u001b[0m\u001b[0mtokenize\u001b[0m\u001b[0;34m(\u001b[0m\u001b[0mstr\u001b[0m\u001b[0;34m)\u001b[0m\u001b[0;34m)\u001b[0m\u001b[0;34m,\u001b[0m \u001b[0menv\u001b[0m\u001b[0;34m)\u001b[0m\u001b[0;34m\u001b[0m\u001b[0m\n\u001b[0m\u001b[1;32m    350\u001b[0m \u001b[0;34m\u001b[0m\u001b[0m\n\u001b[1;32m    351\u001b[0m \u001b[0;32mdef\u001b[0m \u001b[0mmain\u001b[0m\u001b[0;34m(\u001b[0m\u001b[0;34m)\u001b[0m\u001b[0;34m:\u001b[0m\u001b[0;34m\u001b[0m\u001b[0m\n",
      "\u001b[0;32m~/Work/lispy/myown/lis.py\u001b[0m in \u001b[0;36meval\u001b[0;34m(expr, environment)\u001b[0m\n\u001b[1;32m    255\u001b[0m                             \u001b[0mactual_operator\u001b[0m\u001b[0;34m,\u001b[0m\u001b[0;34m\u001b[0m\u001b[0m\n\u001b[1;32m    256\u001b[0m                             \u001b[0;34m[\u001b[0m\u001b[0mfirst_arg\u001b[0m\u001b[0;34m,\u001b[0m \u001b[0msecond_arg\u001b[0m\u001b[0;34m]\u001b[0m\u001b[0;34m,\u001b[0m\u001b[0;34m\u001b[0m\u001b[0m\n\u001b[0;32m--> 257\u001b[0;31m                             environment)\n\u001b[0m\u001b[1;32m    258\u001b[0m                         \u001b[0;31m# print('Got back {}'.format(new_field))\u001b[0m\u001b[0;34m\u001b[0m\u001b[0;34m\u001b[0m\u001b[0m\n\u001b[1;32m    259\u001b[0m                         \u001b[0mexpr\u001b[0m\u001b[0;34m[\u001b[0m\u001b[0;34m(\u001b[0m\u001b[0moper_index\u001b[0m \u001b[0;34m-\u001b[0m \u001b[0;36m1\u001b[0m\u001b[0;34m)\u001b[0m\u001b[0;34m:\u001b[0m \u001b[0;34m(\u001b[0m\u001b[0moper_index\u001b[0m \u001b[0;34m+\u001b[0m \u001b[0;36m2\u001b[0m \u001b[0;34m)\u001b[0m\u001b[0;34m]\u001b[0m \u001b[0;34m=\u001b[0m \u001b[0;34m[\u001b[0m\u001b[0mnew_field\u001b[0m\u001b[0;34m]\u001b[0m\u001b[0;34m\u001b[0m\u001b[0m\n",
      "\u001b[0;32m~/Work/lispy/myown/lis.py\u001b[0m in \u001b[0;36mapply\u001b[0;34m(fn, args, environment)\u001b[0m\n\u001b[1;32m    309\u001b[0m \u001b[0;34m\u001b[0m\u001b[0m\n\u001b[1;32m    310\u001b[0m     \u001b[0;32mif\u001b[0m \u001b[0mcallable\u001b[0m\u001b[0;34m(\u001b[0m\u001b[0mfn\u001b[0m\u001b[0;34m)\u001b[0m\u001b[0;34m:\u001b[0m\u001b[0;34m\u001b[0m\u001b[0m\n\u001b[0;32m--> 311\u001b[0;31m         \u001b[0;32mreturn\u001b[0m \u001b[0mfn\u001b[0m\u001b[0;34m(\u001b[0m\u001b[0;34m*\u001b[0m\u001b[0margs\u001b[0m\u001b[0;34m)\u001b[0m\u001b[0;34m\u001b[0m\u001b[0m\n\u001b[0m\u001b[1;32m    312\u001b[0m \u001b[0;34m\u001b[0m\u001b[0m\n\u001b[1;32m    313\u001b[0m     \u001b[0;31m# Otherwise we have to actually evaluate the function.\u001b[0m\u001b[0;34m\u001b[0m\u001b[0;34m\u001b[0m\u001b[0m\n",
      "\u001b[0;31mTypeError\u001b[0m: unsupported operand type(s) for *: 'Variable' and 'int'"
     ]
    }
   ],
   "source": [
    "run('''\n",
    "(promoters * 5)\n",
    "''', env)"
   ]
  },
  {
   "cell_type": "code",
   "execution_count": 9,
   "metadata": {},
   "outputs": [
    {
     "data": {
      "text/plain": [
       "lis.Variable"
      ]
     },
     "execution_count": 9,
     "metadata": {},
     "output_type": "execute_result"
    }
   ],
   "source": [
    "\n",
    "type(env['promoters'])"
   ]
  },
  {
   "cell_type": "code",
   "execution_count": null,
   "metadata": {},
   "outputs": [],
   "source": [
    "typ"
   ]
  }
 ],
 "metadata": {
  "kernelspec": {
   "display_name": "Python 3",
   "language": "python",
   "name": "python3"
  },
  "language_info": {
   "codemirror_mode": {
    "name": "ipython",
    "version": 3
   },
   "file_extension": ".py",
   "mimetype": "text/x-python",
   "name": "python",
   "nbconvert_exporter": "python",
   "pygments_lexer": "ipython3",
   "version": "3.4.0"
  }
 },
 "nbformat": 4,
 "nbformat_minor": 2
}
