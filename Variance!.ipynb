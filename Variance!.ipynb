{
 "cells": [
  {
   "cell_type": "code",
   "execution_count": 1,
   "metadata": {},
   "outputs": [],
   "source": [
    "import pandas as pd\n",
    "import numpy as np\n",
    "import matplotlib\n",
    "import matplotlib.pyplot as plt\n",
    "import scipy.stats as stats\n",
    "\n",
    "from lis import *\n"
   ]
  },
  {
   "cell_type": "code",
   "execution_count": 2,
   "metadata": {},
   "outputs": [
    {
     "name": "stdout",
     "output_type": "stream",
     "text": [
      "promoters.describe()\n",
      "count    885.00000\n",
      "mean       0.19096\n",
      "std        0.39328\n",
      "min        0.00000\n",
      "25%        0.00000\n",
      "50%        0.00000\n",
      "75%        0.00000\n",
      "max        1.00000\n",
      "dtype: float64\n",
      "\n",
      "passives.describe()\n",
      "count    885.000000\n",
      "mean       0.184181\n",
      "std        0.387851\n",
      "min        0.000000\n",
      "25%        0.000000\n",
      "50%        0.000000\n",
      "75%        0.000000\n",
      "max        1.000000\n",
      "dtype: float64\n",
      "\n",
      "count    885.000000\n",
      "mean       0.624859\n",
      "std        0.484433\n",
      "min        0.000000\n",
      "25%        0.000000\n",
      "50%        1.000000\n",
      "75%        1.000000\n",
      "max        1.000000\n",
      "dtype: float64\n",
      "detractors.describe()\n"
     ]
    }
   ],
   "source": [
    "qnps_answers = np.random.choice(\n",
    "    a=[i for i in range(11)],\n",
    "    p=[(1/11) for i in range(11)],\n",
    "    size=885)\n",
    "\n",
    "\n",
    "\n",
    "nps = pd.Series(qnps_answers)\n",
    "promoters = nps.apply(lambda x: 1 if x in [9, 10] else 0)\n",
    "passives = nps.apply(lambda x: 1 if x in [7, 8] else 0)\n",
    "detractors = nps.apply(lambda x: 1 if x < 7 else 0)\n",
    "print('promoters.describe()')\n",
    "print(promoters.describe())\n",
    "print()\n",
    "print('passives.describe()')\n",
    "print(passives.describe())\n",
    "print()\n",
    "print(detractors.describe())\n",
    "print('detractors.describe()')\n",
    "\n"
   ]
  },
  {
   "cell_type": "markdown",
   "metadata": {},
   "source": [
    "### Promoters:\n",
    "    * variance\n",
    "    * mean\n",
    "    * numerator \n",
    "    * denominator"
   ]
  },
  {
   "cell_type": "code",
   "execution_count": 3,
   "metadata": {},
   "outputs": [
    {
     "name": "stdout",
     "output_type": "stream",
     "text": [
      "promoters variance 0.15466932535726163\n",
      "promoters mean 0.19096045197740114\n",
      "promoters numerator 169\n",
      "promoters denominator 885\n"
     ]
    }
   ],
   "source": [
    "print('promoters variance', promoters.var())\n",
    "print('promoters mean', promoters.mean())\n",
    "print('promoters numerator', promoters[promoters == 1].count())\n",
    "print('promoters denominator', promoters.count())"
   ]
  },
  {
   "cell_type": "markdown",
   "metadata": {},
   "source": [
    "### Starting easy, I want to find the variance of (promoters * 15)\n",
    "    * The variance of the array of 0's and 1's is 0.18\n",
    "    * The actual variance is:\n",
    "$$ \\frac{p(1-p)}{n} $$"
   ]
  },
  {
   "cell_type": "code",
   "execution_count": 4,
   "metadata": {},
   "outputs": [
    {
     "data": {
      "text/plain": [
       "Variable: {'good': True, 'denominator': 885, 'numerator': 885, 'mean': 169.0, 'variance': 0.0, 'proportion': 1.0}"
      ]
     },
     "execution_count": 4,
     "metadata": {},
     "output_type": "execute_result"
    }
   ],
   "source": [
    "Variable(promoters)"
   ]
  },
  {
   "cell_type": "code",
   "execution_count": 9,
   "metadata": {},
   "outputs": [],
   "source": [
    "env = add_series('promoters', promoters, base_environment)\n"
   ]
  },
  {
   "cell_type": "code",
   "execution_count": 10,
   "metadata": {},
   "outputs": [
    {
     "data": {
      "text/plain": [
       "{'!=': <function _operator.ne>,\n",
       " '*': <function _operator.mul>,\n",
       " '+': <function _operator.add>,\n",
       " '-': <function _operator.sub>,\n",
       " '/': <function _operator.truediv>,\n",
       " '<': <function _operator.lt>,\n",
       " '<=': <function _operator.le>,\n",
       " '=': <function _operator.eq>,\n",
       " '>': <function _operator.gt>,\n",
       " '>=': <function _operator.ge>,\n",
       " 'nil': None,\n",
       " 'print': <function lis.<lambda>>,\n",
       " 'promoters': Variable: {'good': True, 'denominator': 885, 'numerator': 885, 'mean': 169.0, 'variance': 0.0, 'proportion': 1.0}}"
      ]
     },
     "execution_count": 10,
     "metadata": {},
     "output_type": "execute_result"
    }
   ],
   "source": [
    "env"
   ]
  },
  {
   "cell_type": "code",
   "execution_count": 11,
   "metadata": {},
   "outputs": [
    {
     "name": "stdout",
     "output_type": "stream",
     "text": [
      "IN EVAL: GOT EXPR [promoters, *, 5]\n",
      "LIST LENGTH: 3\n",
      "We got a case of the infixes!\n",
      "IN EVAL: GOT EXPR promoters\n",
      "  Got a symbol Variable: {'good': True, 'denominator': 885, 'numerator': 885, 'mean': 169.0, 'variance': 0.0, 'proportion': 1.0}\n",
      "IN EVAL: GOT EXPR *\n",
      "we are getting a variable operator for *\n",
      "    Running * on Variable: {'good': True, 'denominator': 885, 'numerator': 885, 'mean': 169.0, 'variance': 0.0, 'proportion': 1.0} and 5\n",
      "         Now Expression is [Variable: {'good': True, 'denominator': 885, 'numerator': 885, 'mean': 845.0, 'variance': 21125.0, 'proportion': 1.0}]\n",
      "IN EVAL: GOT EXPR Variable: {'good': True, 'denominator': 885, 'numerator': 885, 'mean': 845.0, 'variance': 21125.0, 'proportion': 1.0}\n"
     ]
    }
   ],
   "source": [
    "new_var = run('(promoters * 5)', env)"
   ]
  },
  {
   "cell_type": "code",
   "execution_count": 12,
   "metadata": {},
   "outputs": [
    {
     "data": {
      "text/plain": [
       "Variable: {'good': True, 'denominator': 885, 'numerator': 885, 'mean': 845.0, 'variance': 21125.0, 'proportion': 1.0}"
      ]
     },
     "execution_count": 12,
     "metadata": {},
     "output_type": "execute_result"
    }
   ],
   "source": [
    "new_var"
   ]
  },
  {
   "cell_type": "code",
   "execution_count": 16,
   "metadata": {},
   "outputs": [
    {
     "name": "stdout",
     "output_type": "stream",
     "text": [
      "IN EVAL: GOT EXPR [promoters, *, 5]\n",
      "LIST LENGTH: 3\n",
      "We got a case of the infixes!\n",
      "IN EVAL: GOT EXPR promoters\n",
      "  Got a symbol Variable: {'good': True, 'denominator': 885, 'numerator': 885, 'mean': 845.0, 'variance': 21125.0, 'proportion': 1.0}\n",
      "IN EVAL: GOT EXPR *\n",
      "we are getting a variable operator for *\n",
      "    Running * on Variable: {'good': True, 'denominator': 885, 'numerator': 885, 'mean': 845.0, 'variance': 21125.0, 'proportion': 1.0} and 5\n",
      "         Now Expression is [Variable: {'good': True, 'denominator': 885, 'numerator': 885, 'mean': 4225.0, 'variance': 105625.0, 'proportion': 1.0}]\n",
      "IN EVAL: GOT EXPR Variable: {'good': True, 'denominator': 885, 'numerator': 885, 'mean': 4225.0, 'variance': 105625.0, 'proportion': 1.0}\n"
     ]
    },
    {
     "data": {
      "text/plain": [
       "Variable: {'good': True, 'denominator': 885, 'numerator': 885, 'mean': 4225.0, 'variance': 105625.0, 'proportion': 1.0}"
      ]
     },
     "execution_count": 16,
     "metadata": {},
     "output_type": "execute_result"
    }
   ],
   "source": [
    "cont = '(promoters * 5)'\n",
    "eval(parse(tokenize(cont)),env)"
   ]
  },
  {
   "cell_type": "code",
   "execution_count": null,
   "metadata": {},
   "outputs": [],
   "source": []
  }
 ],
 "metadata": {
  "kernelspec": {
   "display_name": "Python 3",
   "language": "python",
   "name": "python3"
  },
  "language_info": {
   "codemirror_mode": {
    "name": "ipython",
    "version": 3
   },
   "file_extension": ".py",
   "mimetype": "text/x-python",
   "name": "python",
   "nbconvert_exporter": "python",
   "pygments_lexer": "ipython3",
   "version": "3.4.0"
  }
 },
 "nbformat": 4,
 "nbformat_minor": 2
}
