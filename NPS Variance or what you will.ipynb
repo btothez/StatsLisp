{
 "cells": [
  {
   "cell_type": "code",
   "execution_count": 1,
   "metadata": {},
   "outputs": [],
   "source": [
    "import pandas as pd\n",
    "import numpy as np\n",
    "import matplotlib\n",
    "import matplotlib.pyplot as plt\n",
    "import scipy.stats as stats\n",
    "\n",
    "from lis import *"
   ]
  },
  {
   "cell_type": "code",
   "execution_count": 2,
   "metadata": {},
   "outputs": [
    {
     "name": "stdout",
     "output_type": "stream",
     "text": [
      "promoters.describe()\n",
      "count    885.000000\n",
      "mean       0.177401\n",
      "std        0.382224\n",
      "min        0.000000\n",
      "25%        0.000000\n",
      "50%        0.000000\n",
      "75%        0.000000\n",
      "max        1.000000\n",
      "dtype: float64\n",
      "\n",
      "passives.describe()\n",
      "count    885.000000\n",
      "mean       0.179661\n",
      "std        0.384122\n",
      "min        0.000000\n",
      "25%        0.000000\n",
      "50%        0.000000\n",
      "75%        0.000000\n",
      "max        1.000000\n",
      "dtype: float64\n",
      "\n",
      "count    885.000000\n",
      "mean       0.642938\n",
      "std        0.479404\n",
      "min        0.000000\n",
      "25%        0.000000\n",
      "50%        1.000000\n",
      "75%        1.000000\n",
      "max        1.000000\n",
      "dtype: float64\n",
      "detractors.describe()\n"
     ]
    }
   ],
   "source": [
    "qnps_answers = np.random.choice(\n",
    "    a=[i for i in range(11)],\n",
    "    p=[(1/11) for i in range(11)],\n",
    "    size=885)\n",
    "\n",
    "\n",
    "\n",
    "nps = pd.Series(qnps_answers)\n",
    "promoters = nps.apply(lambda x: 1 if x in [9, 10] else 0)\n",
    "passives = nps.apply(lambda x: 1 if x in [7, 8] else 0)\n",
    "detractors = nps.apply(lambda x: 1 if x < 7 else 0)\n",
    "print('promoters.describe()')\n",
    "print(promoters.describe())\n",
    "print()\n",
    "print('passives.describe()')\n",
    "print(passives.describe())\n",
    "print()\n",
    "print(detractors.describe())\n",
    "print('detractors.describe()')\n",
    "\n"
   ]
  },
  {
   "cell_type": "code",
   "execution_count": 3,
   "metadata": {},
   "outputs": [],
   "source": [
    "'''\n",
    "First, let's get NPS score and variance the traditional way, by substituting 100's.\n",
    "First we get the three arrays, and compute the score\n",
    "'''\n",
    "\n",
    "nps = pd.Series(qnps_answers)\n"
   ]
  },
  {
   "cell_type": "code",
   "execution_count": 4,
   "metadata": {},
   "outputs": [
    {
     "data": {
      "text/plain": [
       "(array([569.,   0.,   0.,   0.,   0., 159.,   0.,   0.,   0., 157.]),\n",
       " array([-100.,  -80.,  -60.,  -40.,  -20.,    0.,   20.,   40.,   60.,\n",
       "          80.,  100.]),\n",
       " <a list of 10 Patch objects>)"
      ]
     },
     "execution_count": 4,
     "metadata": {},
     "output_type": "execute_result"
    },
    {
     "data": {
      "image/png": "[encoded data removed]",
      "text/plain": [
       "<Figure size 432x288 with 1 Axes>"
      ]
     },
     "metadata": {},
     "output_type": "display_data"
    }
   ],
   "source": [
    "def nps_substitution(x):\n",
    "    if x >= 9: \n",
    "        return 100\n",
    "    elif x <= 6:\n",
    "        return -100\n",
    "    return 0\n",
    "subbed_nps = nps.apply(nps_substitution)\n",
    "plt.hist(subbed_nps)"
   ]
  },
  {
   "cell_type": "code",
   "execution_count": 5,
   "metadata": {},
   "outputs": [
    {
     "name": "stdout",
     "output_type": "stream",
     "text": [
      "Got that, NPS-score is -46.55367231638418, NPS-variance is 6042.973643173045\n"
     ]
    }
   ],
   "source": [
    "subbed_nps.describe()\n",
    "print('Got that, NPS-score is {}, NPS-variance is {}'.format(subbed_nps.mean(), subbed_nps.std()**2))"
   ]
  },
  {
   "cell_type": "code",
   "execution_count": 6,
   "metadata": {},
   "outputs": [
    {
     "name": "stdout",
     "output_type": "stream",
     "text": [
      "6042.973643173018\n"
     ]
    }
   ],
   "source": [
    "# Double check on the variance (REMEMBER BESSEL CORRECTION!!!)\n",
    "nps_score = subbed_nps.mean()\n",
    "print(sum([((x - nps_score)**2 ) for x in subbed_nps]) / (subbed_nps.count() - 1))\n"
   ]
  },
  {
   "cell_type": "markdown",
   "metadata": {},
   "source": [
    "## Hey, remember that fancy formula for NPS Variance??\n",
    " \n",
    "$$  Var(NPS) =  (100 - NPS)^2 * \\frac{promoters}{total} + (0 - NPS)^2 * \\frac{passive}{total} + (-100 - NPS)^2 * \\frac{detractors}{total} $$\n",
    "\n",
    "What if we tried to compute that by hand... (Afterwards we'll try the third way)"
   ]
  },
  {
   "cell_type": "code",
   "execution_count": 7,
   "metadata": {},
   "outputs": [
    {
     "name": "stdout",
     "output_type": "stream",
     "text": [
      "my proportions : 0.17760180995475114, 0.17986425339366516, 0.6436651583710408\n",
      "Var(NPS), by the fancy formula : 6042.973643173045\n"
     ]
    }
   ],
   "source": [
    "bessel_denom = nps.count() - 1\n",
    "\n",
    "promo_frac = promoters[promoters==1].count() / bessel_denom\n",
    "passive_frac = passives[passives==1].count() / bessel_denom\n",
    "detrac_frac = detractors[detractors==1].count() / bessel_denom\n",
    "\n",
    "print('my proportions : {}, {}, {}'.format(promo_frac, passive_frac, detrac_frac))\n",
    "\n",
    "part_a = ((100 - nps_score)**2) * promo_frac\n",
    "part_b = ((0 - nps_score)**2) * passive_frac\n",
    "part_c = ((-100 - nps_score)**2) * detrac_frac\n",
    "\n",
    "print('Var(NPS), by the fancy formula : {}'.format(part_a + part_b + part_c))"
   ]
  },
  {
   "cell_type": "markdown",
   "metadata": {},
   "source": [
    "## Let's go by the other variance formula I have...\n",
    "\n",
    "$$  Var(p - q) = Var(p) + Var(q) - 2*Cov(p,q) $$\n",
    "\n",
    "But it's a little more complicated than that, p & q are proportions, I want percentages. So I need \n",
    "\n",
    "$$ Var(100 * p - 100 * q) = 100^2*Var(p) + 100^2*Var(q) - 2*(100*100)*Cov(p, q) $$\n",
    "\n",
    "Remember:\n",
    "    * Var(p) = p * (1-p)\n",
    "    * Var(q) = q * (1-q)\n",
    "    * Cov(p,q) = pq\n"
   ]
  },
  {
   "cell_type": "code",
   "execution_count": 8,
   "metadata": {},
   "outputs": [
    {
     "name": "stdout",
     "output_type": "stream",
     "text": [
      "0.1460594070555476 0.22936032227022377 0.11431609713150838 10000\n"
     ]
    },
    {
     "data": {
      "text/plain": [
       "6040.519235887881"
      ]
     },
     "execution_count": 8,
     "metadata": {},
     "output_type": "execute_result"
    }
   ],
   "source": [
    "var_p = promo_frac * (1 - promo_frac)\n",
    "var_q = detrac_frac * (1 - detrac_frac)\n",
    "covar = promo_frac * detrac_frac\n",
    "coef = 100**2\n",
    "print(var_p, var_q, covar, coef)\n",
    "\n",
    "coef * (var_p + var_q + (2*covar))\n"
   ]
  },
  {
   "cell_type": "code",
   "execution_count": 9,
   "metadata": {},
   "outputs": [],
   "source": [
    "covar = var_p + var_q"
   ]
  },
  {
   "cell_type": "code",
   "execution_count": null,
   "metadata": {},
   "outputs": [],
   "source": []
  }
 ],
 "metadata": {
  "kernelspec": {
   "display_name": "Python 3",
   "language": "python",
   "name": "python3"
  },
  "language_info": {
   "codemirror_mode": {
    "name": "ipython",
    "version": 3
   },
   "file_extension": ".py",
   "mimetype": "text/x-python",
   "name": "python",
   "nbconvert_exporter": "python",
   "pygments_lexer": "ipython3",
   "version": "3.4.0"
  }
 },
 "nbformat": 4,
 "nbformat_minor": 2
}
